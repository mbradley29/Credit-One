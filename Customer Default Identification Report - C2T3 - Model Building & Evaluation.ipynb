{
 "cells": [
  {
   "cell_type": "markdown",
   "metadata": {},
   "source": [
    "MODELING & EVALUATION"
   ]
  },
  {
   "cell_type": "markdown",
   "metadata": {},
   "source": [
    "Regression: (Limit Balance)"
   ]
  },
  {
   "cell_type": "code",
   "execution_count": 1,
   "metadata": {},
   "outputs": [],
   "source": [
    "#imports\n",
    "import numpy as np\n",
    "import pandas as pd\n",
    "import seaborn as sns\n",
    "import matplotlib.pyplot as plt\n",
    "import scipy\n",
    "import pydotplus\n",
    "\n",
    "\n",
    "#sklearn stuff\n",
    "from sklearn import preprocessing\n",
    "from sklearn.pipeline import Pipeline\n",
    "from sklearn.impute import SimpleImputer\n",
    "from sklearn.preprocessing import OneHotEncoder, LabelEncoder, MinMaxScaler, StandardScaler\n",
    "from sklearn.model_selection import train_test_split, cross_val_score, GridSearchCV\n",
    "from sklearn.metrics import mean_squared_error, r2_score, accuracy_score, classification_report\n",
    "from sklearn.ensemble import RandomForestRegressor,RandomForestClassifier, GradientBoostingRegressor, GradientBoostingClassifier\n",
    "from sklearn.svm import SVR, SVC\n",
    "from sklearn.neural_network import MLPRegressor, MLPClassifier\n",
    "from sklearn.decomposition import PCA\n",
    "from sklearn.utils import resample\n",
    "\n",
    "from math import sqrt\n",
    "%matplotlib inline"
   ]
  },
  {
   "cell_type": "code",
   "execution_count": 2,
   "metadata": {},
   "outputs": [
    {
     "name": "stdout",
     "output_type": "stream",
     "text": [
      "<class 'pandas.core.frame.DataFrame'>\n",
      "RangeIndex: 29965 entries, 0 to 29964\n",
      "Data columns (total 32 columns):\n",
      " #   Column       Non-Null Count  Dtype  \n",
      "---  ------       --------------  -----  \n",
      " 0   LIMIT_BAL    29965 non-null  int64  \n",
      " 1   SEX          29965 non-null  int64  \n",
      " 2   MARRIAGE     29965 non-null  int64  \n",
      " 3   AGE          29965 non-null  int64  \n",
      " 4   PAY_1        29965 non-null  int64  \n",
      " 5   PAY_2        29965 non-null  int64  \n",
      " 6   PAY_3        29965 non-null  int64  \n",
      " 7   PAY_4        29965 non-null  int64  \n",
      " 8   PAY_5        29965 non-null  int64  \n",
      " 9   PAY_6        29965 non-null  int64  \n",
      " 10  BILL_AMT1    29965 non-null  int64  \n",
      " 11  BILL_AMT2    29965 non-null  int64  \n",
      " 12  BILL_AMT3    29965 non-null  int64  \n",
      " 13  BILL_AMT4    29965 non-null  int64  \n",
      " 14  BILL_AMT5    29965 non-null  int64  \n",
      " 15  BILL_AMT6    29965 non-null  int64  \n",
      " 16  PAY_AMT1     29965 non-null  int64  \n",
      " 17  PAY_AMT2     29965 non-null  int64  \n",
      " 18  PAY_AMT3     29965 non-null  int64  \n",
      " 19  PAY_AMT4     29965 non-null  int64  \n",
      " 20  PAY_AMT5     29965 non-null  int64  \n",
      " 21  PAY_AMT6     29965 non-null  int64  \n",
      " 22  Default      29965 non-null  int64  \n",
      " 23  Grad School  29965 non-null  int64  \n",
      " 24  High School  29965 non-null  int64  \n",
      " 25  Edu_Other    29965 non-null  int64  \n",
      " 26  University   29965 non-null  int64  \n",
      " 27  SE_MA        29965 non-null  int64  \n",
      " 28  Age_Disc     29965 non-null  int64  \n",
      " 29  SE_AG        29965 non-null  int64  \n",
      " 30  BA1_2_LB     29965 non-null  float64\n",
      " 31  LB_Disc      29965 non-null  int64  \n",
      "dtypes: float64(1), int64(31)\n",
      "memory usage: 7.3 MB\n"
     ]
    }
   ],
   "source": [
    "# Import the Pre-processed Dataset\n",
    "data = pd.read_csv('Credit_Modeling.csv')\n",
    "data.info()"
   ]
  },
  {
   "cell_type": "code",
   "execution_count": 3,
   "metadata": {},
   "outputs": [
    {
     "name": "stdout",
     "output_type": "stream",
     "text": [
      "<class 'pandas.core.frame.DataFrame'>\n",
      "RangeIndex: 29965 entries, 0 to 29964\n",
      "Data columns (total 33 columns):\n",
      " #   Column       Non-Null Count  Dtype  \n",
      "---  ------       --------------  -----  \n",
      " 0   LIMIT_BAL    29965 non-null  int64  \n",
      " 1   SEX          29965 non-null  int64  \n",
      " 2   MARRIAGE     29965 non-null  int64  \n",
      " 3   AGE          29965 non-null  int64  \n",
      " 4   PAY_1        29965 non-null  int64  \n",
      " 5   PAY_2        29965 non-null  int64  \n",
      " 6   PAY_3        29965 non-null  int64  \n",
      " 7   PAY_4        29965 non-null  int64  \n",
      " 8   PAY_5        29965 non-null  int64  \n",
      " 9   PAY_6        29965 non-null  int64  \n",
      " 10  BILL_AMT1    29965 non-null  int64  \n",
      " 11  BILL_AMT2    29965 non-null  int64  \n",
      " 12  BILL_AMT3    29965 non-null  int64  \n",
      " 13  BILL_AMT4    29965 non-null  int64  \n",
      " 14  BILL_AMT5    29965 non-null  int64  \n",
      " 15  BILL_AMT6    29965 non-null  int64  \n",
      " 16  PAY_AMT1     29965 non-null  int64  \n",
      " 17  PAY_AMT2     29965 non-null  int64  \n",
      " 18  PAY_AMT3     29965 non-null  int64  \n",
      " 19  PAY_AMT4     29965 non-null  int64  \n",
      " 20  PAY_AMT5     29965 non-null  int64  \n",
      " 21  PAY_AMT6     29965 non-null  int64  \n",
      " 22  Default      29965 non-null  int64  \n",
      " 23  Grad School  29965 non-null  int64  \n",
      " 24  High School  29965 non-null  int64  \n",
      " 25  Edu_Other    29965 non-null  int64  \n",
      " 26  University   29965 non-null  int64  \n",
      " 27  SE_MA        29965 non-null  int64  \n",
      " 28  Age_Disc     29965 non-null  int64  \n",
      " 29  SE_AG        29965 non-null  int64  \n",
      " 30  BA1_2_LB     29965 non-null  float64\n",
      " 31  LB_Disc      29965 non-null  int64  \n",
      " 32  No_Delays_6  29965 non-null  int64  \n",
      "dtypes: float64(1), int64(32)\n",
      "memory usage: 7.5 MB\n"
     ]
    }
   ],
   "source": [
    "# Create a variable for No Delayed Payments in the last 6 months\n",
    "data['No_Delays_6'] = 0\n",
    "data.loc[((data.PAY_1 < 1) & (data.PAY_2 < 1) & (data.PAY_3 < 1) & (data.PAY_4 < 1) & (data.PAY_5 < 1) & (data.PAY_6 < 1)),\n",
    "         'No_Delays_6'] = 1 # Duly Paid Last 6 Months\n",
    "data.info()"
   ]
  },
  {
   "cell_type": "code",
   "execution_count": 4,
   "metadata": {},
   "outputs": [
    {
     "name": "stdout",
     "output_type": "stream",
     "text": [
      "(29965, 27)\n",
      "(29965,)\n"
     ]
    }
   ],
   "source": [
    "# Set features and target variable\n",
    "X = data.drop(['LIMIT_BAL','SEX','MARRIAGE','AGE','BA1_2_LB','LB_Disc'], axis=1)\n",
    "y = data['LIMIT_BAL']\n",
    "print(X.shape)\n",
    "print(y.shape)"
   ]
  },
  {
   "cell_type": "markdown",
   "metadata": {},
   "source": [
    "I will start with just the models and raw data to see the progression as I move forward."
   ]
  },
  {
   "cell_type": "code",
   "execution_count": 5,
   "metadata": {},
   "outputs": [],
   "source": [
    "# Prepare the Models\n",
    "algosClass = []\n",
    "algosClass.append(('Random Forest Regressor', RandomForestRegressor()))\n",
    "algosClass.append(('Gradient Boosting Regressor', GradientBoostingRegressor()))\n",
    "algosClass.append(('SVR', SVR()))\n",
    "algosClass.append(('MLP Regressor', MLPRegressor()))"
   ]
  },
  {
   "cell_type": "code",
   "execution_count": 6,
   "metadata": {},
   "outputs": [
    {
     "name": "stderr",
     "output_type": "stream",
     "text": [
      "C:\\Users\\Owner\\New folder\\envs\\DataScience\\lib\\site-packages\\sklearn\\neural_network\\_multilayer_perceptron.py:582: ConvergenceWarning: Stochastic Optimizer: Maximum iterations (200) reached and the optimization hasn't converged yet.\n",
      "  warnings.warn(\n",
      "C:\\Users\\Owner\\New folder\\envs\\DataScience\\lib\\site-packages\\sklearn\\neural_network\\_multilayer_perceptron.py:582: ConvergenceWarning: Stochastic Optimizer: Maximum iterations (200) reached and the optimization hasn't converged yet.\n",
      "  warnings.warn(\n",
      "C:\\Users\\Owner\\New folder\\envs\\DataScience\\lib\\site-packages\\sklearn\\neural_network\\_multilayer_perceptron.py:582: ConvergenceWarning: Stochastic Optimizer: Maximum iterations (200) reached and the optimization hasn't converged yet.\n",
      "  warnings.warn(\n"
     ]
    }
   ],
   "source": [
    "# Regression\n",
    "results = []\n",
    "names = []\n",
    "for name, model in algosClass:\n",
    "    result = cross_val_score(model, X, y, cv=3, scoring='r2')\n",
    "    names.append(name)\n",
    "    results.append(result)"
   ]
  },
  {
   "cell_type": "code",
   "execution_count": 7,
   "metadata": {},
   "outputs": [
    {
     "name": "stdout",
     "output_type": "stream",
     "text": [
      "Random Forest Regressor 0.4516983414748061\n",
      "Gradient Boosting Regressor 0.4576124854301031\n",
      "SVR -0.05033023124413213\n",
      "MLP Regressor -0.27432151850284603\n"
     ]
    }
   ],
   "source": [
    "# Output\n",
    "for i in range(len(names)):\n",
    "    print(names[i], results[i].mean())"
   ]
  },
  {
   "cell_type": "markdown",
   "metadata": {},
   "source": [
    "Not very good. Lets add some parameters to these models and see if that helps."
   ]
  },
  {
   "cell_type": "code",
   "execution_count": 8,
   "metadata": {},
   "outputs": [],
   "source": [
    "# Prepare the Models\n",
    "algosClass = []\n",
    "algosClass.append(('Random Forest Regressor', RandomForestRegressor(n_estimators=300, max_depth=3, random_state=0)))\n",
    "algosClass.append(('Gradient Boosting Regressor', GradientBoostingRegressor(n_estimators=300, learning_rate=0.2,\n",
    "                                                                            max_depth=3, random_state=0, loss='ls')))\n",
    "algosClass.append(('SVR', SVR()))\n",
    "algosClass.append(('MLP Regressor', MLPRegressor(alpha=0.1, random_state=123, max_iter=1000)))"
   ]
  },
  {
   "cell_type": "code",
   "execution_count": 9,
   "metadata": {},
   "outputs": [],
   "source": [
    "# Regression\n",
    "results = []\n",
    "names = []\n",
    "for name, model in algosClass:\n",
    "    result = cross_val_score(model, X, y, cv=3, scoring='r2')\n",
    "    names.append(name)\n",
    "    results.append(result)"
   ]
  },
  {
   "cell_type": "code",
   "execution_count": 10,
   "metadata": {},
   "outputs": [
    {
     "name": "stdout",
     "output_type": "stream",
     "text": [
      "Random Forest Regressor 0.3433113075155692\n",
      "Gradient Boosting Regressor 0.4653949639074079\n",
      "SVR -0.05033023124413213\n",
      "MLP Regressor 0.1470709737760981\n"
     ]
    }
   ],
   "source": [
    "# Output\n",
    "for i in range(len(names)):\n",
    "    print(names[i], results[i].mean())"
   ]
  },
  {
   "cell_type": "markdown",
   "metadata": {},
   "source": [
    "The parameters improved the r2 score for Gradient Boosting and MLP Regressors but decreased the score for Random Forest Regressor. I will keep the parameters for both improved models and drop the SVR model. Lets apply some standardization to the data and see if that improves the scores."
   ]
  },
  {
   "cell_type": "code",
   "execution_count": 11,
   "metadata": {},
   "outputs": [
    {
     "name": "stdout",
     "output_type": "stream",
     "text": [
      "(29965, 27)\n"
     ]
    }
   ],
   "source": [
    "# Create the scaler, fit it to X, and then transform X to scaled data\n",
    "scaler = preprocessing.StandardScaler(with_mean=False).fit(X)\n",
    "X_scaled = scaler.transform(X)\n",
    "print(X_scaled.shape)"
   ]
  },
  {
   "cell_type": "code",
   "execution_count": 12,
   "metadata": {},
   "outputs": [],
   "source": [
    "# Prepare the Models\n",
    "algosClass = []\n",
    "algosClass.append(('Random Forest Regressor', RandomForestRegressor()))\n",
    "algosClass.append(('Gradient Boosting Regressor', GradientBoostingRegressor(n_estimators=300, learning_rate=0.2,\n",
    "                                                                            max_depth=3, random_state=0, loss='ls')))\n",
    "algosClass.append(('MLP Regressor', MLPRegressor(alpha=0.1, random_state=123, max_iter=1000)))"
   ]
  },
  {
   "cell_type": "code",
   "execution_count": 13,
   "metadata": {},
   "outputs": [
    {
     "name": "stderr",
     "output_type": "stream",
     "text": [
      "C:\\Users\\Owner\\New folder\\envs\\DataScience\\lib\\site-packages\\sklearn\\neural_network\\_multilayer_perceptron.py:582: ConvergenceWarning: Stochastic Optimizer: Maximum iterations (1000) reached and the optimization hasn't converged yet.\n",
      "  warnings.warn(\n",
      "C:\\Users\\Owner\\New folder\\envs\\DataScience\\lib\\site-packages\\sklearn\\neural_network\\_multilayer_perceptron.py:582: ConvergenceWarning: Stochastic Optimizer: Maximum iterations (1000) reached and the optimization hasn't converged yet.\n",
      "  warnings.warn(\n",
      "C:\\Users\\Owner\\New folder\\envs\\DataScience\\lib\\site-packages\\sklearn\\neural_network\\_multilayer_perceptron.py:582: ConvergenceWarning: Stochastic Optimizer: Maximum iterations (1000) reached and the optimization hasn't converged yet.\n",
      "  warnings.warn(\n"
     ]
    }
   ],
   "source": [
    "# Regression\n",
    "results = []\n",
    "names = []\n",
    "for name, model in algosClass:\n",
    "    result = cross_val_score(model, X_scaled, y, cv=3, scoring='r2')\n",
    "    names.append(name)\n",
    "    results.append(result)"
   ]
  },
  {
   "cell_type": "code",
   "execution_count": 14,
   "metadata": {},
   "outputs": [
    {
     "name": "stdout",
     "output_type": "stream",
     "text": [
      "Random Forest Regressor 0.45179509422254616\n",
      "Gradient Boosting Regressor 0.4653596034971456\n",
      "MLP Regressor 0.32297223396338576\n"
     ]
    }
   ],
   "source": [
    "# Output\n",
    "for i in range(len(names)):\n",
    "    print(names[i], results[i].mean())"
   ]
  },
  {
   "cell_type": "markdown",
   "metadata": {},
   "source": [
    "The scaler greatly improved the score for MLP Regressor, more than doubling it. No improvements for Random Forest and Gradient Boosting Regressors. Lets use PCA for feature selection and dimensionality reduction to see if we can improve on these scores."
   ]
  },
  {
   "cell_type": "code",
   "execution_count": 15,
   "metadata": {},
   "outputs": [
    {
     "name": "stdout",
     "output_type": "stream",
     "text": [
      "(29965, 24)\n"
     ]
    }
   ],
   "source": [
    "pca = PCA(n_components=24, whiten=True)\n",
    "pca.fit(X)\n",
    "X_pca = pca.transform(X)\n",
    "print(X_pca.shape)"
   ]
  },
  {
   "cell_type": "code",
   "execution_count": 16,
   "metadata": {},
   "outputs": [],
   "source": [
    "# Prepare the Models\n",
    "algosClass = []\n",
    "algosClass.append(('Random Forest Regressor', RandomForestRegressor()))\n",
    "algosClass.append(('Gradient Boosting Regressor', GradientBoostingRegressor(n_estimators=300, learning_rate=0.2,\n",
    "                                                                            max_depth=3, random_state=0, loss='ls')))\n",
    "algosClass.append(('MLP Regressor', MLPRegressor(alpha=0.05, random_state=123, learning_rate='adaptive', max_iter=2000)))"
   ]
  },
  {
   "cell_type": "code",
   "execution_count": 17,
   "metadata": {},
   "outputs": [
    {
     "name": "stderr",
     "output_type": "stream",
     "text": [
      "C:\\Users\\Owner\\New folder\\envs\\DataScience\\lib\\site-packages\\sklearn\\neural_network\\_multilayer_perceptron.py:582: ConvergenceWarning: Stochastic Optimizer: Maximum iterations (2000) reached and the optimization hasn't converged yet.\n",
      "  warnings.warn(\n",
      "C:\\Users\\Owner\\New folder\\envs\\DataScience\\lib\\site-packages\\sklearn\\neural_network\\_multilayer_perceptron.py:582: ConvergenceWarning: Stochastic Optimizer: Maximum iterations (2000) reached and the optimization hasn't converged yet.\n",
      "  warnings.warn(\n",
      "C:\\Users\\Owner\\New folder\\envs\\DataScience\\lib\\site-packages\\sklearn\\neural_network\\_multilayer_perceptron.py:582: ConvergenceWarning: Stochastic Optimizer: Maximum iterations (2000) reached and the optimization hasn't converged yet.\n",
      "  warnings.warn(\n"
     ]
    }
   ],
   "source": [
    "# Cross Validation\n",
    "results = []\n",
    "names = []\n",
    "for name, model in algosClass:\n",
    "    result = cross_val_score(model, X_pca, y, cv=3, scoring='r2')\n",
    "    names.append(name)\n",
    "    results.append(result)"
   ]
  },
  {
   "cell_type": "code",
   "execution_count": 18,
   "metadata": {},
   "outputs": [
    {
     "name": "stdout",
     "output_type": "stream",
     "text": [
      "Random Forest Regressor 0.43237292348844614\n",
      "Gradient Boosting Regressor 0.44674699854796796\n",
      "MLP Regressor 0.35724331842985085\n"
     ]
    }
   ],
   "source": [
    "# Output\n",
    "for i in range(len(names)):\n",
    "    print(names[i], results[i].mean())"
   ]
  },
  {
   "cell_type": "markdown",
   "metadata": {},
   "source": [
    "The MLP Regressor improved again but Random Forest and Gradient Boosting Regressors decreased. At this point, I am dropping the MLP and Random Forest Regressors and will focus on just the Gradient Boosting Regressor, as it has consistently scored the highest."
   ]
  },
  {
   "cell_type": "code",
   "execution_count": 19,
   "metadata": {},
   "outputs": [
    {
     "name": "stdout",
     "output_type": "stream",
     "text": [
      "<class 'pandas.core.frame.DataFrame'>\n",
      "RangeIndex: 29965 entries, 0 to 29964\n",
      "Data columns (total 40 columns):\n",
      " #   Column          Non-Null Count  Dtype  \n",
      "---  ------          --------------  -----  \n",
      " 0   LIMIT_BAL       29965 non-null  int64  \n",
      " 1   SEX             29965 non-null  int64  \n",
      " 2   MARRIAGE        29965 non-null  int64  \n",
      " 3   AGE             29965 non-null  int64  \n",
      " 4   PAY_1           29965 non-null  int64  \n",
      " 5   PAY_2           29965 non-null  int64  \n",
      " 6   PAY_3           29965 non-null  int64  \n",
      " 7   PAY_4           29965 non-null  int64  \n",
      " 8   PAY_5           29965 non-null  int64  \n",
      " 9   PAY_6           29965 non-null  int64  \n",
      " 10  BILL_AMT1       29965 non-null  int64  \n",
      " 11  BILL_AMT2       29965 non-null  int64  \n",
      " 12  BILL_AMT3       29965 non-null  int64  \n",
      " 13  BILL_AMT4       29965 non-null  int64  \n",
      " 14  BILL_AMT5       29965 non-null  int64  \n",
      " 15  BILL_AMT6       29965 non-null  int64  \n",
      " 16  PAY_AMT1        29965 non-null  int64  \n",
      " 17  PAY_AMT2        29965 non-null  int64  \n",
      " 18  PAY_AMT3        29965 non-null  int64  \n",
      " 19  PAY_AMT4        29965 non-null  int64  \n",
      " 20  PAY_AMT5        29965 non-null  int64  \n",
      " 21  PAY_AMT6        29965 non-null  int64  \n",
      " 22  Default         29965 non-null  int64  \n",
      " 23  Grad School     29965 non-null  int64  \n",
      " 24  High School     29965 non-null  int64  \n",
      " 25  Edu_Other       29965 non-null  int64  \n",
      " 26  University      29965 non-null  int64  \n",
      " 27  SE_MA           29965 non-null  int64  \n",
      " 28  Age_Disc        29965 non-null  int64  \n",
      " 29  SE_AG           29965 non-null  int64  \n",
      " 30  BA1_2_LB        29965 non-null  float64\n",
      " 31  LB_Disc         29965 non-null  int64  \n",
      " 32  No_Delays_6     29965 non-null  int64  \n",
      " 33  Sex_Male        29965 non-null  int64  \n",
      " 34  Sex_Female      29965 non-null  int64  \n",
      " 35  Default_No      29965 non-null  int64  \n",
      " 36  Default_Yes     29965 non-null  int64  \n",
      " 37  Married         29965 non-null  int64  \n",
      " 38  Single          29965 non-null  int64  \n",
      " 39  Marriage_Other  29965 non-null  int64  \n",
      "dtypes: float64(1), int64(39)\n",
      "memory usage: 9.1 MB\n"
     ]
    }
   ],
   "source": [
    "# Change the Features Sex, Default, and Marriage\n",
    "data['Sex_Male'] = 0\n",
    "data.loc[(data.SEX == 1), 'Sex_Male'] = 1\n",
    "\n",
    "data['Sex_Female'] = 0\n",
    "data.loc[(data.SEX == 2), 'Sex_Female'] = 1\n",
    "\n",
    "data['Default_No'] = 0\n",
    "data.loc[(data.Default == 0), 'Default_No'] = 1\n",
    "\n",
    "data['Default_Yes'] = 0\n",
    "data.loc[(data.Default == 1), 'Default_Yes'] = 1\n",
    "\n",
    "data['Married'] = 0\n",
    "data.loc[(data.MARRIAGE == 1), 'Married'] = 1\n",
    "\n",
    "data['Single'] = 0\n",
    "data.loc[(data.MARRIAGE == 2), 'Single'] = 1\n",
    "\n",
    "data['Marriage_Other'] = 0\n",
    "data.loc[(data.MARRIAGE == 3), 'Marriage_Other'] = 1\n",
    "data.info()"
   ]
  },
  {
   "cell_type": "code",
   "execution_count": 20,
   "metadata": {},
   "outputs": [
    {
     "data": {
      "text/html": [
       "<div>\n",
       "<style scoped>\n",
       "    .dataframe tbody tr th:only-of-type {\n",
       "        vertical-align: middle;\n",
       "    }\n",
       "\n",
       "    .dataframe tbody tr th {\n",
       "        vertical-align: top;\n",
       "    }\n",
       "\n",
       "    .dataframe thead th {\n",
       "        text-align: right;\n",
       "    }\n",
       "</style>\n",
       "<table border=\"1\" class=\"dataframe\">\n",
       "  <thead>\n",
       "    <tr style=\"text-align: right;\">\n",
       "      <th></th>\n",
       "      <th>LIMIT_BAL</th>\n",
       "      <th>SEX</th>\n",
       "      <th>MARRIAGE</th>\n",
       "      <th>AGE</th>\n",
       "      <th>PAY_1</th>\n",
       "      <th>PAY_2</th>\n",
       "      <th>PAY_3</th>\n",
       "      <th>PAY_4</th>\n",
       "      <th>PAY_5</th>\n",
       "      <th>PAY_6</th>\n",
       "      <th>...</th>\n",
       "      <th>BA1_2_LB</th>\n",
       "      <th>LB_Disc</th>\n",
       "      <th>No_Delays_6</th>\n",
       "      <th>Sex_Male</th>\n",
       "      <th>Sex_Female</th>\n",
       "      <th>Default_No</th>\n",
       "      <th>Default_Yes</th>\n",
       "      <th>Married</th>\n",
       "      <th>Single</th>\n",
       "      <th>Marriage_Other</th>\n",
       "    </tr>\n",
       "  </thead>\n",
       "  <tbody>\n",
       "    <tr>\n",
       "      <th>18267</th>\n",
       "      <td>200000</td>\n",
       "      <td>1</td>\n",
       "      <td>1</td>\n",
       "      <td>54</td>\n",
       "      <td>1</td>\n",
       "      <td>2</td>\n",
       "      <td>0</td>\n",
       "      <td>0</td>\n",
       "      <td>0</td>\n",
       "      <td>0</td>\n",
       "      <td>...</td>\n",
       "      <td>0.964445</td>\n",
       "      <td>3</td>\n",
       "      <td>0</td>\n",
       "      <td>1</td>\n",
       "      <td>0</td>\n",
       "      <td>1</td>\n",
       "      <td>0</td>\n",
       "      <td>1</td>\n",
       "      <td>0</td>\n",
       "      <td>0</td>\n",
       "    </tr>\n",
       "    <tr>\n",
       "      <th>22394</th>\n",
       "      <td>60000</td>\n",
       "      <td>2</td>\n",
       "      <td>1</td>\n",
       "      <td>37</td>\n",
       "      <td>1</td>\n",
       "      <td>2</td>\n",
       "      <td>2</td>\n",
       "      <td>2</td>\n",
       "      <td>2</td>\n",
       "      <td>2</td>\n",
       "      <td>...</td>\n",
       "      <td>0.177750</td>\n",
       "      <td>2</td>\n",
       "      <td>0</td>\n",
       "      <td>0</td>\n",
       "      <td>1</td>\n",
       "      <td>0</td>\n",
       "      <td>1</td>\n",
       "      <td>1</td>\n",
       "      <td>0</td>\n",
       "      <td>0</td>\n",
       "    </tr>\n",
       "    <tr>\n",
       "      <th>5175</th>\n",
       "      <td>190000</td>\n",
       "      <td>1</td>\n",
       "      <td>1</td>\n",
       "      <td>50</td>\n",
       "      <td>2</td>\n",
       "      <td>2</td>\n",
       "      <td>2</td>\n",
       "      <td>2</td>\n",
       "      <td>2</td>\n",
       "      <td>2</td>\n",
       "      <td>...</td>\n",
       "      <td>0.634116</td>\n",
       "      <td>3</td>\n",
       "      <td>0</td>\n",
       "      <td>1</td>\n",
       "      <td>0</td>\n",
       "      <td>0</td>\n",
       "      <td>1</td>\n",
       "      <td>1</td>\n",
       "      <td>0</td>\n",
       "      <td>0</td>\n",
       "    </tr>\n",
       "    <tr>\n",
       "      <th>8359</th>\n",
       "      <td>70000</td>\n",
       "      <td>2</td>\n",
       "      <td>1</td>\n",
       "      <td>40</td>\n",
       "      <td>0</td>\n",
       "      <td>0</td>\n",
       "      <td>0</td>\n",
       "      <td>0</td>\n",
       "      <td>0</td>\n",
       "      <td>0</td>\n",
       "      <td>...</td>\n",
       "      <td>0.009414</td>\n",
       "      <td>2</td>\n",
       "      <td>1</td>\n",
       "      <td>0</td>\n",
       "      <td>1</td>\n",
       "      <td>1</td>\n",
       "      <td>0</td>\n",
       "      <td>1</td>\n",
       "      <td>0</td>\n",
       "      <td>0</td>\n",
       "    </tr>\n",
       "    <tr>\n",
       "      <th>23418</th>\n",
       "      <td>650000</td>\n",
       "      <td>2</td>\n",
       "      <td>2</td>\n",
       "      <td>39</td>\n",
       "      <td>0</td>\n",
       "      <td>0</td>\n",
       "      <td>0</td>\n",
       "      <td>0</td>\n",
       "      <td>0</td>\n",
       "      <td>0</td>\n",
       "      <td>...</td>\n",
       "      <td>0.990977</td>\n",
       "      <td>4</td>\n",
       "      <td>1</td>\n",
       "      <td>0</td>\n",
       "      <td>1</td>\n",
       "      <td>1</td>\n",
       "      <td>0</td>\n",
       "      <td>0</td>\n",
       "      <td>1</td>\n",
       "      <td>0</td>\n",
       "    </tr>\n",
       "    <tr>\n",
       "      <th>8771</th>\n",
       "      <td>70000</td>\n",
       "      <td>2</td>\n",
       "      <td>2</td>\n",
       "      <td>24</td>\n",
       "      <td>0</td>\n",
       "      <td>0</td>\n",
       "      <td>0</td>\n",
       "      <td>0</td>\n",
       "      <td>0</td>\n",
       "      <td>0</td>\n",
       "      <td>...</td>\n",
       "      <td>0.599157</td>\n",
       "      <td>2</td>\n",
       "      <td>1</td>\n",
       "      <td>0</td>\n",
       "      <td>1</td>\n",
       "      <td>1</td>\n",
       "      <td>0</td>\n",
       "      <td>0</td>\n",
       "      <td>1</td>\n",
       "      <td>0</td>\n",
       "    </tr>\n",
       "    <tr>\n",
       "      <th>28818</th>\n",
       "      <td>180000</td>\n",
       "      <td>2</td>\n",
       "      <td>2</td>\n",
       "      <td>38</td>\n",
       "      <td>0</td>\n",
       "      <td>0</td>\n",
       "      <td>0</td>\n",
       "      <td>0</td>\n",
       "      <td>0</td>\n",
       "      <td>0</td>\n",
       "      <td>...</td>\n",
       "      <td>0.856139</td>\n",
       "      <td>3</td>\n",
       "      <td>1</td>\n",
       "      <td>0</td>\n",
       "      <td>1</td>\n",
       "      <td>1</td>\n",
       "      <td>0</td>\n",
       "      <td>0</td>\n",
       "      <td>1</td>\n",
       "      <td>0</td>\n",
       "    </tr>\n",
       "    <tr>\n",
       "      <th>3099</th>\n",
       "      <td>400000</td>\n",
       "      <td>2</td>\n",
       "      <td>1</td>\n",
       "      <td>41</td>\n",
       "      <td>0</td>\n",
       "      <td>0</td>\n",
       "      <td>0</td>\n",
       "      <td>0</td>\n",
       "      <td>0</td>\n",
       "      <td>0</td>\n",
       "      <td>...</td>\n",
       "      <td>0.953783</td>\n",
       "      <td>4</td>\n",
       "      <td>1</td>\n",
       "      <td>0</td>\n",
       "      <td>1</td>\n",
       "      <td>0</td>\n",
       "      <td>1</td>\n",
       "      <td>1</td>\n",
       "      <td>0</td>\n",
       "      <td>0</td>\n",
       "    </tr>\n",
       "    <tr>\n",
       "      <th>1351</th>\n",
       "      <td>280000</td>\n",
       "      <td>2</td>\n",
       "      <td>1</td>\n",
       "      <td>39</td>\n",
       "      <td>0</td>\n",
       "      <td>0</td>\n",
       "      <td>0</td>\n",
       "      <td>0</td>\n",
       "      <td>0</td>\n",
       "      <td>0</td>\n",
       "      <td>...</td>\n",
       "      <td>0.972175</td>\n",
       "      <td>4</td>\n",
       "      <td>1</td>\n",
       "      <td>0</td>\n",
       "      <td>1</td>\n",
       "      <td>0</td>\n",
       "      <td>1</td>\n",
       "      <td>1</td>\n",
       "      <td>0</td>\n",
       "      <td>0</td>\n",
       "    </tr>\n",
       "    <tr>\n",
       "      <th>19468</th>\n",
       "      <td>120000</td>\n",
       "      <td>2</td>\n",
       "      <td>2</td>\n",
       "      <td>28</td>\n",
       "      <td>0</td>\n",
       "      <td>0</td>\n",
       "      <td>0</td>\n",
       "      <td>0</td>\n",
       "      <td>0</td>\n",
       "      <td>0</td>\n",
       "      <td>...</td>\n",
       "      <td>0.970300</td>\n",
       "      <td>3</td>\n",
       "      <td>1</td>\n",
       "      <td>0</td>\n",
       "      <td>1</td>\n",
       "      <td>1</td>\n",
       "      <td>0</td>\n",
       "      <td>0</td>\n",
       "      <td>1</td>\n",
       "      <td>0</td>\n",
       "    </tr>\n",
       "    <tr>\n",
       "      <th>15410</th>\n",
       "      <td>80000</td>\n",
       "      <td>2</td>\n",
       "      <td>1</td>\n",
       "      <td>57</td>\n",
       "      <td>1</td>\n",
       "      <td>0</td>\n",
       "      <td>0</td>\n",
       "      <td>0</td>\n",
       "      <td>0</td>\n",
       "      <td>0</td>\n",
       "      <td>...</td>\n",
       "      <td>1.000000</td>\n",
       "      <td>2</td>\n",
       "      <td>0</td>\n",
       "      <td>0</td>\n",
       "      <td>1</td>\n",
       "      <td>1</td>\n",
       "      <td>0</td>\n",
       "      <td>1</td>\n",
       "      <td>0</td>\n",
       "      <td>0</td>\n",
       "    </tr>\n",
       "    <tr>\n",
       "      <th>16519</th>\n",
       "      <td>50000</td>\n",
       "      <td>1</td>\n",
       "      <td>2</td>\n",
       "      <td>26</td>\n",
       "      <td>0</td>\n",
       "      <td>0</td>\n",
       "      <td>0</td>\n",
       "      <td>0</td>\n",
       "      <td>0</td>\n",
       "      <td>0</td>\n",
       "      <td>...</td>\n",
       "      <td>0.861100</td>\n",
       "      <td>1</td>\n",
       "      <td>1</td>\n",
       "      <td>1</td>\n",
       "      <td>0</td>\n",
       "      <td>1</td>\n",
       "      <td>0</td>\n",
       "      <td>0</td>\n",
       "      <td>1</td>\n",
       "      <td>0</td>\n",
       "    </tr>\n",
       "    <tr>\n",
       "      <th>10065</th>\n",
       "      <td>150000</td>\n",
       "      <td>2</td>\n",
       "      <td>2</td>\n",
       "      <td>36</td>\n",
       "      <td>0</td>\n",
       "      <td>0</td>\n",
       "      <td>0</td>\n",
       "      <td>0</td>\n",
       "      <td>0</td>\n",
       "      <td>0</td>\n",
       "      <td>...</td>\n",
       "      <td>0.934747</td>\n",
       "      <td>3</td>\n",
       "      <td>1</td>\n",
       "      <td>0</td>\n",
       "      <td>1</td>\n",
       "      <td>1</td>\n",
       "      <td>0</td>\n",
       "      <td>0</td>\n",
       "      <td>1</td>\n",
       "      <td>0</td>\n",
       "    </tr>\n",
       "    <tr>\n",
       "      <th>9152</th>\n",
       "      <td>20000</td>\n",
       "      <td>1</td>\n",
       "      <td>2</td>\n",
       "      <td>34</td>\n",
       "      <td>0</td>\n",
       "      <td>0</td>\n",
       "      <td>2</td>\n",
       "      <td>0</td>\n",
       "      <td>0</td>\n",
       "      <td>0</td>\n",
       "      <td>...</td>\n",
       "      <td>0.117500</td>\n",
       "      <td>1</td>\n",
       "      <td>0</td>\n",
       "      <td>1</td>\n",
       "      <td>0</td>\n",
       "      <td>1</td>\n",
       "      <td>0</td>\n",
       "      <td>0</td>\n",
       "      <td>1</td>\n",
       "      <td>0</td>\n",
       "    </tr>\n",
       "    <tr>\n",
       "      <th>4662</th>\n",
       "      <td>120000</td>\n",
       "      <td>2</td>\n",
       "      <td>2</td>\n",
       "      <td>24</td>\n",
       "      <td>0</td>\n",
       "      <td>0</td>\n",
       "      <td>0</td>\n",
       "      <td>0</td>\n",
       "      <td>0</td>\n",
       "      <td>0</td>\n",
       "      <td>...</td>\n",
       "      <td>0.347467</td>\n",
       "      <td>3</td>\n",
       "      <td>1</td>\n",
       "      <td>0</td>\n",
       "      <td>1</td>\n",
       "      <td>1</td>\n",
       "      <td>0</td>\n",
       "      <td>0</td>\n",
       "      <td>1</td>\n",
       "      <td>0</td>\n",
       "    </tr>\n",
       "    <tr>\n",
       "      <th>28776</th>\n",
       "      <td>160000</td>\n",
       "      <td>2</td>\n",
       "      <td>1</td>\n",
       "      <td>35</td>\n",
       "      <td>0</td>\n",
       "      <td>0</td>\n",
       "      <td>0</td>\n",
       "      <td>0</td>\n",
       "      <td>0</td>\n",
       "      <td>0</td>\n",
       "      <td>...</td>\n",
       "      <td>0.997906</td>\n",
       "      <td>3</td>\n",
       "      <td>1</td>\n",
       "      <td>0</td>\n",
       "      <td>1</td>\n",
       "      <td>1</td>\n",
       "      <td>0</td>\n",
       "      <td>1</td>\n",
       "      <td>0</td>\n",
       "      <td>0</td>\n",
       "    </tr>\n",
       "    <tr>\n",
       "      <th>17074</th>\n",
       "      <td>30000</td>\n",
       "      <td>2</td>\n",
       "      <td>2</td>\n",
       "      <td>23</td>\n",
       "      <td>0</td>\n",
       "      <td>0</td>\n",
       "      <td>2</td>\n",
       "      <td>2</td>\n",
       "      <td>3</td>\n",
       "      <td>2</td>\n",
       "      <td>...</td>\n",
       "      <td>0.297433</td>\n",
       "      <td>1</td>\n",
       "      <td>0</td>\n",
       "      <td>0</td>\n",
       "      <td>1</td>\n",
       "      <td>0</td>\n",
       "      <td>1</td>\n",
       "      <td>0</td>\n",
       "      <td>1</td>\n",
       "      <td>0</td>\n",
       "    </tr>\n",
       "    <tr>\n",
       "      <th>10797</th>\n",
       "      <td>120000</td>\n",
       "      <td>2</td>\n",
       "      <td>2</td>\n",
       "      <td>26</td>\n",
       "      <td>0</td>\n",
       "      <td>0</td>\n",
       "      <td>0</td>\n",
       "      <td>0</td>\n",
       "      <td>0</td>\n",
       "      <td>0</td>\n",
       "      <td>...</td>\n",
       "      <td>0.904058</td>\n",
       "      <td>3</td>\n",
       "      <td>1</td>\n",
       "      <td>0</td>\n",
       "      <td>1</td>\n",
       "      <td>1</td>\n",
       "      <td>0</td>\n",
       "      <td>0</td>\n",
       "      <td>1</td>\n",
       "      <td>0</td>\n",
       "    </tr>\n",
       "    <tr>\n",
       "      <th>12731</th>\n",
       "      <td>80000</td>\n",
       "      <td>2</td>\n",
       "      <td>2</td>\n",
       "      <td>24</td>\n",
       "      <td>0</td>\n",
       "      <td>0</td>\n",
       "      <td>0</td>\n",
       "      <td>0</td>\n",
       "      <td>0</td>\n",
       "      <td>0</td>\n",
       "      <td>...</td>\n",
       "      <td>0.612688</td>\n",
       "      <td>2</td>\n",
       "      <td>1</td>\n",
       "      <td>0</td>\n",
       "      <td>1</td>\n",
       "      <td>1</td>\n",
       "      <td>0</td>\n",
       "      <td>0</td>\n",
       "      <td>1</td>\n",
       "      <td>0</td>\n",
       "    </tr>\n",
       "    <tr>\n",
       "      <th>2488</th>\n",
       "      <td>10000</td>\n",
       "      <td>1</td>\n",
       "      <td>2</td>\n",
       "      <td>23</td>\n",
       "      <td>0</td>\n",
       "      <td>0</td>\n",
       "      <td>0</td>\n",
       "      <td>0</td>\n",
       "      <td>2</td>\n",
       "      <td>2</td>\n",
       "      <td>...</td>\n",
       "      <td>0.414300</td>\n",
       "      <td>1</td>\n",
       "      <td>0</td>\n",
       "      <td>1</td>\n",
       "      <td>0</td>\n",
       "      <td>1</td>\n",
       "      <td>0</td>\n",
       "      <td>0</td>\n",
       "      <td>1</td>\n",
       "      <td>0</td>\n",
       "    </tr>\n",
       "  </tbody>\n",
       "</table>\n",
       "<p>20 rows × 40 columns</p>\n",
       "</div>"
      ],
      "text/plain": [
       "       LIMIT_BAL  SEX  MARRIAGE  AGE  PAY_1  PAY_2  PAY_3  PAY_4  PAY_5  \\\n",
       "18267     200000    1         1   54      1      2      0      0      0   \n",
       "22394      60000    2         1   37      1      2      2      2      2   \n",
       "5175      190000    1         1   50      2      2      2      2      2   \n",
       "8359       70000    2         1   40      0      0      0      0      0   \n",
       "23418     650000    2         2   39      0      0      0      0      0   \n",
       "8771       70000    2         2   24      0      0      0      0      0   \n",
       "28818     180000    2         2   38      0      0      0      0      0   \n",
       "3099      400000    2         1   41      0      0      0      0      0   \n",
       "1351      280000    2         1   39      0      0      0      0      0   \n",
       "19468     120000    2         2   28      0      0      0      0      0   \n",
       "15410      80000    2         1   57      1      0      0      0      0   \n",
       "16519      50000    1         2   26      0      0      0      0      0   \n",
       "10065     150000    2         2   36      0      0      0      0      0   \n",
       "9152       20000    1         2   34      0      0      2      0      0   \n",
       "4662      120000    2         2   24      0      0      0      0      0   \n",
       "28776     160000    2         1   35      0      0      0      0      0   \n",
       "17074      30000    2         2   23      0      0      2      2      3   \n",
       "10797     120000    2         2   26      0      0      0      0      0   \n",
       "12731      80000    2         2   24      0      0      0      0      0   \n",
       "2488       10000    1         2   23      0      0      0      0      2   \n",
       "\n",
       "       PAY_6  ...  BA1_2_LB  LB_Disc  No_Delays_6  Sex_Male  Sex_Female  \\\n",
       "18267      0  ...  0.964445        3            0         1           0   \n",
       "22394      2  ...  0.177750        2            0         0           1   \n",
       "5175       2  ...  0.634116        3            0         1           0   \n",
       "8359       0  ...  0.009414        2            1         0           1   \n",
       "23418      0  ...  0.990977        4            1         0           1   \n",
       "8771       0  ...  0.599157        2            1         0           1   \n",
       "28818      0  ...  0.856139        3            1         0           1   \n",
       "3099       0  ...  0.953783        4            1         0           1   \n",
       "1351       0  ...  0.972175        4            1         0           1   \n",
       "19468      0  ...  0.970300        3            1         0           1   \n",
       "15410      0  ...  1.000000        2            0         0           1   \n",
       "16519      0  ...  0.861100        1            1         1           0   \n",
       "10065      0  ...  0.934747        3            1         0           1   \n",
       "9152       0  ...  0.117500        1            0         1           0   \n",
       "4662       0  ...  0.347467        3            1         0           1   \n",
       "28776      0  ...  0.997906        3            1         0           1   \n",
       "17074      2  ...  0.297433        1            0         0           1   \n",
       "10797      0  ...  0.904058        3            1         0           1   \n",
       "12731      0  ...  0.612688        2            1         0           1   \n",
       "2488       2  ...  0.414300        1            0         1           0   \n",
       "\n",
       "       Default_No  Default_Yes  Married  Single  Marriage_Other  \n",
       "18267           1            0        1       0               0  \n",
       "22394           0            1        1       0               0  \n",
       "5175            0            1        1       0               0  \n",
       "8359            1            0        1       0               0  \n",
       "23418           1            0        0       1               0  \n",
       "8771            1            0        0       1               0  \n",
       "28818           1            0        0       1               0  \n",
       "3099            0            1        1       0               0  \n",
       "1351            0            1        1       0               0  \n",
       "19468           1            0        0       1               0  \n",
       "15410           1            0        1       0               0  \n",
       "16519           1            0        0       1               0  \n",
       "10065           1            0        0       1               0  \n",
       "9152            1            0        0       1               0  \n",
       "4662            1            0        0       1               0  \n",
       "28776           1            0        1       0               0  \n",
       "17074           0            1        0       1               0  \n",
       "10797           1            0        0       1               0  \n",
       "12731           1            0        0       1               0  \n",
       "2488            1            0        0       1               0  \n",
       "\n",
       "[20 rows x 40 columns]"
      ]
     },
     "execution_count": 20,
     "metadata": {},
     "output_type": "execute_result"
    }
   ],
   "source": [
    "data.sample(20)"
   ]
  },
  {
   "cell_type": "code",
   "execution_count": 21,
   "metadata": {},
   "outputs": [
    {
     "name": "stdout",
     "output_type": "stream",
     "text": [
      "(29965, 34)\n",
      "(29965,)\n"
     ]
    }
   ],
   "source": [
    "# Separating features from the target variable (Limit Bal)\n",
    "X = data.drop(['LIMIT_BAL','LB_Disc','BA1_2_LB','SEX','MARRIAGE','Default'], axis=1)\n",
    "y = data['LIMIT_BAL']\n",
    "print(X.shape)\n",
    "print(y.shape)"
   ]
  },
  {
   "cell_type": "code",
   "execution_count": 22,
   "metadata": {},
   "outputs": [
    {
     "name": "stdout",
     "output_type": "stream",
     "text": [
      "(29965, 30)\n"
     ]
    }
   ],
   "source": [
    "pca = PCA(n_components=30, whiten=True)\n",
    "pca.fit(X)\n",
    "X_pca = pca.transform(X)\n",
    "print(X_pca.shape)"
   ]
  },
  {
   "cell_type": "code",
   "execution_count": 23,
   "metadata": {},
   "outputs": [],
   "source": [
    "# Split the data into training and testing sets\n",
    "X_train, X_test, y_train, y_test = train_test_split(X_pca, y, test_size = .20, random_state = 123)"
   ]
  },
  {
   "cell_type": "code",
   "execution_count": 24,
   "metadata": {},
   "outputs": [],
   "source": [
    "scaler = preprocessing.StandardScaler(with_mean=False).fit(X_train)\n",
    "X_train_scaled = scaler.transform(X_train)\n",
    "X_test_scaled = scaler.transform(X_test)"
   ]
  },
  {
   "cell_type": "code",
   "execution_count": 25,
   "metadata": {},
   "outputs": [],
   "source": [
    "# Train the Model\n",
    "algo = GradientBoostingRegressor(n_estimators=300, learning_rate=0.2, max_depth=3, random_state=0, loss='ls')\n",
    "model = algo.fit(X_train_scaled, y_train)\n",
    "preds = model.predict(X_test_scaled)"
   ]
  },
  {
   "cell_type": "code",
   "execution_count": 26,
   "metadata": {},
   "outputs": [
    {
     "name": "stdout",
     "output_type": "stream",
     "text": [
      "R2 Score is: 0.473\n",
      "MSE is: 8710201982.564\n",
      "RMSE is: 93328.463\n"
     ]
    }
   ],
   "source": [
    "# Assessment\n",
    "print('R2 Score is: %.3f' % r2_score(y_test, preds))\n",
    "print('MSE is: %.3f' % mean_squared_error(y_test, preds))\n",
    "rms = sqrt(mean_squared_error(y_test, preds))\n",
    "print('RMSE is: %.3f' % rms)"
   ]
  },
  {
   "cell_type": "markdown",
   "metadata": {},
   "source": [
    "The model is not improving much at this point, lets use PCA to show the most important features and go from there."
   ]
  },
  {
   "cell_type": "code",
   "execution_count": 32,
   "metadata": {},
   "outputs": [
    {
     "name": "stdout",
     "output_type": "stream",
     "text": [
      "(29965, 34)\n"
     ]
    }
   ],
   "source": [
    "pca = PCA()\n",
    "X_pca = pca.fit_transform(X)\n",
    "print(X_pca.shape)"
   ]
  },
  {
   "cell_type": "code",
   "execution_count": 33,
   "metadata": {},
   "outputs": [
    {
     "data": {
      "image/png": "[encoded data removed]",
      "text/plain": [
       "<Figure size 432x288 with 1 Axes>"
      ]
     },
     "metadata": {
      "needs_background": "light"
     },
     "output_type": "display_data"
    }
   ],
   "source": [
    "def myplot(score,coeff,labels=None):\n",
    "    xs = score[:,0]\n",
    "    ys = score[:,1]\n",
    "    n = coeff.shape[0]\n",
    "    scalex = 1.0/(xs.max() - xs.min())\n",
    "    scaley = 1.0/(ys.max() - ys.min())\n",
    "    plt.scatter(xs * scalex,ys * scaley, c = y)\n",
    "    for i in range(n):\n",
    "        plt.arrow(0, 0, coeff[i,0], coeff[i,1],color = 'r',alpha = 0.5)\n",
    "        if labels is None:\n",
    "            plt.text(coeff[i,0]* 1.15, coeff[i,1] * 1.15, \"Var\"+str(i+1), color = 'g', ha = 'center', va = 'center')\n",
    "        else:\n",
    "            plt.text(coeff[i,0]* 1.15, coeff[i,1] * 1.15, labels[i], color = 'g', ha = 'center', va = 'center')\n",
    "plt.xlim(-1,1)\n",
    "plt.ylim(-1,1)\n",
    "plt.xlabel(\"PC{}\".format(1))\n",
    "plt.ylabel(\"PC{}\".format(2))\n",
    "plt.grid()\n",
    "\n",
    "#Call the function. Use only the 2 PCs.\n",
    "myplot(X_pca[:,0:2],np.transpose(pca.components_[0:2, :]))\n",
    "plt.show()"
   ]
  },
  {
   "cell_type": "markdown",
   "metadata": {},
   "source": [
    "The graph shows variables 8 through 13 are the most important features, which are Bill Amounts 1 - 6."
   ]
  },
  {
   "cell_type": "code",
   "execution_count": 36,
   "metadata": {},
   "outputs": [
    {
     "data": {
      "text/plain": [
       "array([8.48627348e-01, 4.87374723e-02, 2.70994896e-02, 1.60688789e-02,\n",
       "       1.44251791e-02, 1.19934604e-02, 1.01500386e-02, 9.31751135e-03,\n",
       "       4.72272226e-03, 3.80735329e-03, 2.69880627e-03, 2.35173652e-03,\n",
       "       3.02302499e-09, 2.24355251e-10, 7.84981293e-11, 2.02676860e-11,\n",
       "       1.92307926e-11, 1.33346466e-11, 1.10802254e-11, 8.81976027e-12,\n",
       "       6.76219104e-12, 6.66583078e-12, 5.58667003e-12, 5.12772222e-12,\n",
       "       3.63372079e-12, 3.13918778e-12, 1.01563864e-12, 7.08023565e-13,\n",
       "       8.39363133e-33, 8.39363133e-33, 8.39363133e-33, 8.39363133e-33,\n",
       "       8.39363133e-33, 8.39363133e-33])"
      ]
     },
     "execution_count": 36,
     "metadata": {},
     "output_type": "execute_result"
    }
   ],
   "source": [
    "pca.explained_variance_ratio_"
   ]
  },
  {
   "cell_type": "code",
   "execution_count": 35,
   "metadata": {},
   "outputs": [
    {
     "name": "stdout",
     "output_type": "stream",
     "text": [
      "[[3.26938092e-06 7.67863607e-08 1.32307528e-07 ... 8.06175792e-08\n",
      "  6.49618321e-08 1.56557471e-08]\n",
      " [1.79478464e-06 6.43173131e-07 7.09352413e-07 ... 7.56176785e-09\n",
      "  3.79539562e-08 3.03921883e-08]\n",
      " [3.64982280e-06 1.66679216e-06 1.90507869e-06 ... 1.08320940e-07\n",
      "  1.45897161e-07 3.75762214e-08]\n",
      " ...\n",
      " [0.00000000e+00 2.62346177e-13 1.69554912e-13 ... 1.19111692e-02\n",
      "  1.31017316e-01 2.73945801e-01]\n",
      " [0.00000000e+00 8.59565526e-14 9.98230315e-14 ... 3.52206213e-01\n",
      "  4.56521907e-01 5.60837601e-01]\n",
      " [0.00000000e+00 1.12528228e-12 3.46969844e-13 ... 3.60430456e-01\n",
      "  8.25268082e-03 3.76935818e-01]]\n"
     ]
    }
   ],
   "source": [
    "print(abs( pca.components_ ))"
   ]
  },
  {
   "cell_type": "markdown",
   "metadata": {},
   "source": [
    "I see that PC1 explains over 80% of the variance, lets make a data frame to show the top 10 most important features in PC1 and PC2."
   ]
  },
  {
   "cell_type": "code",
   "execution_count": 39,
   "metadata": {},
   "outputs": [
    {
     "data": {
      "text/html": [
       "<div>\n",
       "<style scoped>\n",
       "    .dataframe tbody tr th:only-of-type {\n",
       "        vertical-align: middle;\n",
       "    }\n",
       "\n",
       "    .dataframe tbody tr th {\n",
       "        vertical-align: top;\n",
       "    }\n",
       "\n",
       "    .dataframe thead th {\n",
       "        text-align: right;\n",
       "    }\n",
       "</style>\n",
       "<table border=\"1\" class=\"dataframe\">\n",
       "  <thead>\n",
       "    <tr style=\"text-align: right;\">\n",
       "      <th></th>\n",
       "      <th>PC1</th>\n",
       "      <th>PC2</th>\n",
       "      <th>PC3</th>\n",
       "      <th>PC4</th>\n",
       "      <th>PC5</th>\n",
       "      <th>PC6</th>\n",
       "      <th>PC7</th>\n",
       "      <th>PC8</th>\n",
       "      <th>PC9</th>\n",
       "      <th>PC10</th>\n",
       "      <th>...</th>\n",
       "      <th>PC25</th>\n",
       "      <th>PC26</th>\n",
       "      <th>PC27</th>\n",
       "      <th>PC28</th>\n",
       "      <th>PC29</th>\n",
       "      <th>PC30</th>\n",
       "      <th>PC31</th>\n",
       "      <th>PC32</th>\n",
       "      <th>PC33</th>\n",
       "      <th>PC34</th>\n",
       "    </tr>\n",
       "  </thead>\n",
       "  <tbody>\n",
       "    <tr>\n",
       "      <th>AGE</th>\n",
       "      <td>3.269381e-06</td>\n",
       "      <td>1.794785e-06</td>\n",
       "      <td>0.000004</td>\n",
       "      <td>0.000011</td>\n",
       "      <td>1.855506e-06</td>\n",
       "      <td>1.099145e-06</td>\n",
       "      <td>2.499411e-06</td>\n",
       "      <td>2.216873e-06</td>\n",
       "      <td>4.131864e-06</td>\n",
       "      <td>0.000003</td>\n",
       "      <td>...</td>\n",
       "      <td>0.001128</td>\n",
       "      <td>0.001262</td>\n",
       "      <td>0.008368</td>\n",
       "      <td>0.000368</td>\n",
       "      <td>0.000000e+00</td>\n",
       "      <td>0.000000e+00</td>\n",
       "      <td>0.000000e+00</td>\n",
       "      <td>0.000000e+00</td>\n",
       "      <td>0.000000e+00</td>\n",
       "      <td>0.000000e+00</td>\n",
       "    </tr>\n",
       "    <tr>\n",
       "      <th>PAY_1</th>\n",
       "      <td>7.678636e-08</td>\n",
       "      <td>6.431731e-07</td>\n",
       "      <td>0.000002</td>\n",
       "      <td>0.000004</td>\n",
       "      <td>6.553428e-07</td>\n",
       "      <td>4.338503e-07</td>\n",
       "      <td>6.733254e-07</td>\n",
       "      <td>7.331974e-07</td>\n",
       "      <td>1.356663e-06</td>\n",
       "      <td>0.000003</td>\n",
       "      <td>...</td>\n",
       "      <td>0.182483</td>\n",
       "      <td>0.365103</td>\n",
       "      <td>0.000754</td>\n",
       "      <td>0.007620</td>\n",
       "      <td>2.370685e-13</td>\n",
       "      <td>1.575080e-13</td>\n",
       "      <td>2.342967e-13</td>\n",
       "      <td>2.623462e-13</td>\n",
       "      <td>8.595655e-14</td>\n",
       "      <td>1.125282e-12</td>\n",
       "    </tr>\n",
       "    <tr>\n",
       "      <th>PAY_2</th>\n",
       "      <td>1.323075e-07</td>\n",
       "      <td>7.093524e-07</td>\n",
       "      <td>0.000002</td>\n",
       "      <td>0.000004</td>\n",
       "      <td>9.706981e-07</td>\n",
       "      <td>1.405937e-06</td>\n",
       "      <td>7.973618e-07</td>\n",
       "      <td>1.152944e-06</td>\n",
       "      <td>9.227157e-07</td>\n",
       "      <td>0.000003</td>\n",
       "      <td>...</td>\n",
       "      <td>0.172899</td>\n",
       "      <td>0.087502</td>\n",
       "      <td>0.001988</td>\n",
       "      <td>0.004391</td>\n",
       "      <td>1.202077e-13</td>\n",
       "      <td>3.807068e-14</td>\n",
       "      <td>1.186564e-13</td>\n",
       "      <td>1.695549e-13</td>\n",
       "      <td>9.982303e-14</td>\n",
       "      <td>3.469698e-13</td>\n",
       "    </tr>\n",
       "    <tr>\n",
       "      <th>PAY_3</th>\n",
       "      <td>2.664934e-08</td>\n",
       "      <td>1.161963e-06</td>\n",
       "      <td>0.000002</td>\n",
       "      <td>0.000004</td>\n",
       "      <td>2.044101e-07</td>\n",
       "      <td>1.452379e-06</td>\n",
       "      <td>4.302076e-07</td>\n",
       "      <td>8.433179e-07</td>\n",
       "      <td>1.045741e-06</td>\n",
       "      <td>0.000002</td>\n",
       "      <td>...</td>\n",
       "      <td>0.289160</td>\n",
       "      <td>0.105482</td>\n",
       "      <td>0.001835</td>\n",
       "      <td>0.001809</td>\n",
       "      <td>9.497309e-14</td>\n",
       "      <td>2.211808e-13</td>\n",
       "      <td>1.181800e-13</td>\n",
       "      <td>2.521270e-15</td>\n",
       "      <td>1.932599e-13</td>\n",
       "      <td>9.047983e-14</td>\n",
       "    </tr>\n",
       "    <tr>\n",
       "      <th>PAY_4</th>\n",
       "      <td>1.213515e-08</td>\n",
       "      <td>1.507615e-06</td>\n",
       "      <td>0.000001</td>\n",
       "      <td>0.000004</td>\n",
       "      <td>1.197423e-06</td>\n",
       "      <td>1.358449e-07</td>\n",
       "      <td>8.160874e-07</td>\n",
       "      <td>8.770077e-07</td>\n",
       "      <td>2.846819e-06</td>\n",
       "      <td>0.000001</td>\n",
       "      <td>...</td>\n",
       "      <td>0.497311</td>\n",
       "      <td>0.115816</td>\n",
       "      <td>0.004004</td>\n",
       "      <td>0.000165</td>\n",
       "      <td>1.363905e-13</td>\n",
       "      <td>2.035726e-13</td>\n",
       "      <td>5.826901e-14</td>\n",
       "      <td>1.004584e-13</td>\n",
       "      <td>1.207466e-13</td>\n",
       "      <td>1.101596e-12</td>\n",
       "    </tr>\n",
       "  </tbody>\n",
       "</table>\n",
       "<p>5 rows × 34 columns</p>\n",
       "</div>"
      ],
      "text/plain": [
       "                PC1           PC2       PC3       PC4           PC5  \\\n",
       "AGE    3.269381e-06  1.794785e-06  0.000004  0.000011  1.855506e-06   \n",
       "PAY_1  7.678636e-08  6.431731e-07  0.000002  0.000004  6.553428e-07   \n",
       "PAY_2  1.323075e-07  7.093524e-07  0.000002  0.000004  9.706981e-07   \n",
       "PAY_3  2.664934e-08  1.161963e-06  0.000002  0.000004  2.044101e-07   \n",
       "PAY_4  1.213515e-08  1.507615e-06  0.000001  0.000004  1.197423e-06   \n",
       "\n",
       "                PC6           PC7           PC8           PC9      PC10  ...  \\\n",
       "AGE    1.099145e-06  2.499411e-06  2.216873e-06  4.131864e-06  0.000003  ...   \n",
       "PAY_1  4.338503e-07  6.733254e-07  7.331974e-07  1.356663e-06  0.000003  ...   \n",
       "PAY_2  1.405937e-06  7.973618e-07  1.152944e-06  9.227157e-07  0.000003  ...   \n",
       "PAY_3  1.452379e-06  4.302076e-07  8.433179e-07  1.045741e-06  0.000002  ...   \n",
       "PAY_4  1.358449e-07  8.160874e-07  8.770077e-07  2.846819e-06  0.000001  ...   \n",
       "\n",
       "           PC25      PC26      PC27      PC28          PC29          PC30  \\\n",
       "AGE    0.001128  0.001262  0.008368  0.000368  0.000000e+00  0.000000e+00   \n",
       "PAY_1  0.182483  0.365103  0.000754  0.007620  2.370685e-13  1.575080e-13   \n",
       "PAY_2  0.172899  0.087502  0.001988  0.004391  1.202077e-13  3.807068e-14   \n",
       "PAY_3  0.289160  0.105482  0.001835  0.001809  9.497309e-14  2.211808e-13   \n",
       "PAY_4  0.497311  0.115816  0.004004  0.000165  1.363905e-13  2.035726e-13   \n",
       "\n",
       "               PC31          PC32          PC33          PC34  \n",
       "AGE    0.000000e+00  0.000000e+00  0.000000e+00  0.000000e+00  \n",
       "PAY_1  2.342967e-13  2.623462e-13  8.595655e-14  1.125282e-12  \n",
       "PAY_2  1.186564e-13  1.695549e-13  9.982303e-14  3.469698e-13  \n",
       "PAY_3  1.181800e-13  2.521270e-15  1.932599e-13  9.047983e-14  \n",
       "PAY_4  5.826901e-14  1.004584e-13  1.207466e-13  1.101596e-12  \n",
       "\n",
       "[5 rows x 34 columns]"
      ]
     },
     "metadata": {},
     "output_type": "display_data"
    },
    {
     "name": "stdout",
     "output_type": "stream",
     "text": [
      "\n",
      "PC1 top 10 feautres are \n",
      "\n"
     ]
    },
    {
     "data": {
      "text/plain": [
       "BILL_AMT1    0.446540\n",
       "BILL_AMT2    0.440868\n",
       "BILL_AMT3    0.429192\n",
       "BILL_AMT4    0.397487\n",
       "BILL_AMT5    0.369472\n",
       "BILL_AMT6    0.352661\n",
       "PAY_AMT2     0.028388\n",
       "PAY_AMT1     0.024965\n",
       "PAY_AMT3     0.023833\n",
       "PAY_AMT6     0.020614\n",
       "Name: PC1, dtype: float64"
      ]
     },
     "metadata": {},
     "output_type": "display_data"
    },
    {
     "name": "stdout",
     "output_type": "stream",
     "text": [
      "\n",
      "PC2 top 10 feautres are \n",
      "\n"
     ]
    },
    {
     "data": {
      "text/plain": [
       "BILL_AMT1    0.548944\n",
       "BILL_AMT6    0.479720\n",
       "BILL_AMT5    0.424129\n",
       "BILL_AMT2    0.393812\n",
       "BILL_AMT4    0.257491\n",
       "PAY_AMT2     0.169292\n",
       "PAY_AMT3     0.141902\n",
       "PAY_AMT4     0.100087\n",
       "PAY_AMT5     0.062050\n",
       "BILL_AMT3    0.050381\n",
       "Name: PC2, dtype: float64"
      ]
     },
     "metadata": {},
     "output_type": "display_data"
    }
   ],
   "source": [
    "# X is the original numeric dataframe\n",
    "# pca is the model\n",
    "def create_importance_dataframe(pca, X):\n",
    "\n",
    "    # Change pcs components ndarray to a dataframe\n",
    "    importance_df = pd.DataFrame(pca.components_)\n",
    "\n",
    "    # Assign columns\n",
    "    importance_df.columns = X.columns\n",
    "\n",
    "    # Change to absolute values\n",
    "    importance_df = importance_df.apply(np.abs)\n",
    "\n",
    "    # Transpose\n",
    "    importance_df = importance_df.transpose()\n",
    "\n",
    "    # Change column names again\n",
    "\n",
    "    ## First get number of pcs\n",
    "    num_pcs = importance_df.shape[1]\n",
    "\n",
    "    ## Generate the new column names\n",
    "    new_columns = [f'PC{i}' for i in range(1, num_pcs + 1)]\n",
    "\n",
    "    ## Now rename\n",
    "    importance_df.columns = new_columns\n",
    "\n",
    "    # Return importance df\n",
    "    return importance_df\n",
    "\n",
    "# Call function to create importance df\n",
    "importance_df = create_importance_dataframe(pca, X)\n",
    "\n",
    "# Show first few rows\n",
    "display(importance_df.head())\n",
    "\n",
    "# Sort depending on PC of interest\n",
    "\n",
    "## PC1 top 10 important features\n",
    "pc1_top_10_features = importance_df['PC1'].sort_values(ascending = False)[:10]\n",
    "print(), print(f'PC1 top 10 feautres are \\n')\n",
    "display(pc1_top_10_features )\n",
    "\n",
    "## PC2 top 10 important features\n",
    "pc2_top_10_features = importance_df['PC2'].sort_values(ascending = False)[:10]\n",
    "print(), print(f'PC2 top 10 feautres are \\n')\n",
    "display(pc2_top_10_features )"
   ]
  },
  {
   "cell_type": "markdown",
   "metadata": {},
   "source": [
    "The df shows the Bill Amount features are by far the most important, as did the graph. I will try these features with the model training to see if the score improves at all but usually less features means lower score."
   ]
  },
  {
   "cell_type": "code",
   "execution_count": 40,
   "metadata": {},
   "outputs": [
    {
     "name": "stdout",
     "output_type": "stream",
     "text": [
      "(29965, 12)\n",
      "(29965,)\n"
     ]
    }
   ],
   "source": [
    "X = data[['BILL_AMT1','BILL_AMT2','BILL_AMT3','BILL_AMT4','BILL_AMT5','BILL_AMT6','PAY_AMT1','PAY_AMT2',\n",
    "         'PAY_AMT3','PAY_AMT4','PAY_AMT5','PAY_AMT6']]\n",
    "Y = data['LIMIT_BAL']\n",
    "print(X.shape)\n",
    "print(y.shape)"
   ]
  },
  {
   "cell_type": "code",
   "execution_count": 41,
   "metadata": {},
   "outputs": [],
   "source": [
    "# Split the data into training and testing sets\n",
    "X_train, X_test, y_train, y_test = train_test_split(X, y, test_size = .25, random_state = 123)"
   ]
  },
  {
   "cell_type": "code",
   "execution_count": 42,
   "metadata": {},
   "outputs": [],
   "source": [
    "scaler = preprocessing.StandardScaler().fit(X_train)\n",
    "X_train_scaled = scaler.transform(X_train)\n",
    "X_test_scaled = scaler.transform(X_test)"
   ]
  },
  {
   "cell_type": "code",
   "execution_count": 43,
   "metadata": {},
   "outputs": [],
   "source": [
    "# Train the Model\n",
    "algo = GradientBoostingRegressor(n_estimators=300, learning_rate=0.2, max_depth=3, random_state=0, loss='ls')\n",
    "model = algo.fit(X_train_scaled, y_train)\n",
    "preds = model.predict(X_test_scaled)"
   ]
  },
  {
   "cell_type": "code",
   "execution_count": 44,
   "metadata": {},
   "outputs": [
    {
     "name": "stdout",
     "output_type": "stream",
     "text": [
      "R2 Score is: 0.416\n",
      "MSE is: 9713732630.791\n",
      "RMSE is: 98558.270\n"
     ]
    }
   ],
   "source": [
    "# Assessment\n",
    "print('R2 Score is: %.3f' % r2_score(y_test, preds))\n",
    "print('MSE is: %.3f' % mean_squared_error(y_test, preds))\n",
    "rms = sqrt(mean_squared_error(y_test, preds))\n",
    "print('RMSE is: %.3f' % rms)"
   ]
  },
  {
   "cell_type": "markdown",
   "metadata": {},
   "source": [
    "Regression Conclusion:"
   ]
  },
  {
   "cell_type": "markdown",
   "metadata": {},
   "source": [
    "I was not able to build a regression model that could accurately predict the Credit Limit amount for new customer loans. The range, 10,000 to 1,000,000, is probably just too large for the models to accurately predict. The Gradient Boosting Regressor had the highest scores of the 4 models with an r2 score of 0.473 and RMSE of 93,328. The results of the PCA revealed that the variables Bill Amount 1-6 and Pay Amount 1-6 are the most important features in the dataset for predicting Credit Limit. I will now try to build a model that can predict if a customer should be approved or not for a new credit loan (ie Defualt is Target Variable)."
   ]
  },
  {
   "cell_type": "markdown",
   "metadata": {},
   "source": [
    "Classification: (Default)"
   ]
  },
  {
   "cell_type": "code",
   "execution_count": 45,
   "metadata": {},
   "outputs": [
    {
     "name": "stdout",
     "output_type": "stream",
     "text": [
      "<class 'pandas.core.frame.DataFrame'>\n",
      "RangeIndex: 29965 entries, 0 to 29964\n",
      "Data columns (total 40 columns):\n",
      " #   Column          Non-Null Count  Dtype  \n",
      "---  ------          --------------  -----  \n",
      " 0   LIMIT_BAL       29965 non-null  int64  \n",
      " 1   SEX             29965 non-null  int64  \n",
      " 2   MARRIAGE        29965 non-null  int64  \n",
      " 3   AGE             29965 non-null  int64  \n",
      " 4   PAY_1           29965 non-null  int64  \n",
      " 5   PAY_2           29965 non-null  int64  \n",
      " 6   PAY_3           29965 non-null  int64  \n",
      " 7   PAY_4           29965 non-null  int64  \n",
      " 8   PAY_5           29965 non-null  int64  \n",
      " 9   PAY_6           29965 non-null  int64  \n",
      " 10  BILL_AMT1       29965 non-null  int64  \n",
      " 11  BILL_AMT2       29965 non-null  int64  \n",
      " 12  BILL_AMT3       29965 non-null  int64  \n",
      " 13  BILL_AMT4       29965 non-null  int64  \n",
      " 14  BILL_AMT5       29965 non-null  int64  \n",
      " 15  BILL_AMT6       29965 non-null  int64  \n",
      " 16  PAY_AMT1        29965 non-null  int64  \n",
      " 17  PAY_AMT2        29965 non-null  int64  \n",
      " 18  PAY_AMT3        29965 non-null  int64  \n",
      " 19  PAY_AMT4        29965 non-null  int64  \n",
      " 20  PAY_AMT5        29965 non-null  int64  \n",
      " 21  PAY_AMT6        29965 non-null  int64  \n",
      " 22  Default         29965 non-null  int64  \n",
      " 23  Grad School     29965 non-null  int64  \n",
      " 24  High School     29965 non-null  int64  \n",
      " 25  Edu_Other       29965 non-null  int64  \n",
      " 26  University      29965 non-null  int64  \n",
      " 27  SE_MA           29965 non-null  int64  \n",
      " 28  Age_Disc        29965 non-null  int64  \n",
      " 29  SE_AG           29965 non-null  int64  \n",
      " 30  BA1_2_LB        29965 non-null  float64\n",
      " 31  LB_Disc         29965 non-null  int64  \n",
      " 32  No_Delays_6     29965 non-null  int64  \n",
      " 33  Sex_Male        29965 non-null  int64  \n",
      " 34  Sex_Female      29965 non-null  int64  \n",
      " 35  Default_No      29965 non-null  int64  \n",
      " 36  Default_Yes     29965 non-null  int64  \n",
      " 37  Married         29965 non-null  int64  \n",
      " 38  Single          29965 non-null  int64  \n",
      " 39  Marriage_Other  29965 non-null  int64  \n",
      "dtypes: float64(1), int64(39)\n",
      "memory usage: 9.1 MB\n"
     ]
    }
   ],
   "source": [
    "data.info()"
   ]
  },
  {
   "cell_type": "code",
   "execution_count": 46,
   "metadata": {},
   "outputs": [
    {
     "name": "stdout",
     "output_type": "stream",
     "text": [
      "<class 'pandas.core.frame.DataFrame'>\n",
      "RangeIndex: 29965 entries, 0 to 29964\n",
      "Data columns (total 45 columns):\n",
      " #   Column          Non-Null Count  Dtype  \n",
      "---  ------          --------------  -----  \n",
      " 0   LIMIT_BAL       29965 non-null  int64  \n",
      " 1   SEX             29965 non-null  int64  \n",
      " 2   MARRIAGE        29965 non-null  int64  \n",
      " 3   AGE             29965 non-null  int64  \n",
      " 4   PAY_1           29965 non-null  int64  \n",
      " 5   PAY_2           29965 non-null  int64  \n",
      " 6   PAY_3           29965 non-null  int64  \n",
      " 7   PAY_4           29965 non-null  int64  \n",
      " 8   PAY_5           29965 non-null  int64  \n",
      " 9   PAY_6           29965 non-null  int64  \n",
      " 10  BILL_AMT1       29965 non-null  int64  \n",
      " 11  BILL_AMT2       29965 non-null  int64  \n",
      " 12  BILL_AMT3       29965 non-null  int64  \n",
      " 13  BILL_AMT4       29965 non-null  int64  \n",
      " 14  BILL_AMT5       29965 non-null  int64  \n",
      " 15  BILL_AMT6       29965 non-null  int64  \n",
      " 16  PAY_AMT1        29965 non-null  int64  \n",
      " 17  PAY_AMT2        29965 non-null  int64  \n",
      " 18  PAY_AMT3        29965 non-null  int64  \n",
      " 19  PAY_AMT4        29965 non-null  int64  \n",
      " 20  PAY_AMT5        29965 non-null  int64  \n",
      " 21  PAY_AMT6        29965 non-null  int64  \n",
      " 22  Default         29965 non-null  int64  \n",
      " 23  Grad School     29965 non-null  int64  \n",
      " 24  High School     29965 non-null  int64  \n",
      " 25  Edu_Other       29965 non-null  int64  \n",
      " 26  University      29965 non-null  int64  \n",
      " 27  SE_MA           29965 non-null  int64  \n",
      " 28  Age_Disc        29965 non-null  int64  \n",
      " 29  SE_AG           29965 non-null  int64  \n",
      " 30  BA1_2_LB        29965 non-null  float64\n",
      " 31  LB_Disc         29965 non-null  int64  \n",
      " 32  No_Delays_6     29965 non-null  int64  \n",
      " 33  Sex_Male        29965 non-null  int64  \n",
      " 34  Sex_Female      29965 non-null  int64  \n",
      " 35  Default_No      29965 non-null  int64  \n",
      " 36  Default_Yes     29965 non-null  int64  \n",
      " 37  Married         29965 non-null  int64  \n",
      " 38  Single          29965 non-null  int64  \n",
      " 39  Marriage_Other  29965 non-null  int64  \n",
      " 40  BA2_2_LB        29965 non-null  float64\n",
      " 41  BA3_2_LB        29965 non-null  float64\n",
      " 42  BA4_2_LB        29965 non-null  float64\n",
      " 43  BA5_2_LB        29965 non-null  float64\n",
      " 44  BA6_2_LB        29965 non-null  float64\n",
      "dtypes: float64(6), int64(39)\n",
      "memory usage: 10.3 MB\n"
     ]
    }
   ],
   "source": [
    "# Create variables for percentage of Bill Amount 2-6 to Limit Balance\n",
    "data['BA2_2_LB'] = (data.LIMIT_BAL - data.BILL_AMT2) / data.LIMIT_BAL\n",
    "data['BA3_2_LB'] = (data.LIMIT_BAL - data.BILL_AMT3) / data.LIMIT_BAL\n",
    "data['BA4_2_LB'] = (data.LIMIT_BAL - data.BILL_AMT4) / data.LIMIT_BAL\n",
    "data['BA5_2_LB'] = (data.LIMIT_BAL - data.BILL_AMT5) / data.LIMIT_BAL\n",
    "data['BA6_2_LB'] = (data.LIMIT_BAL - data.BILL_AMT6) / data.LIMIT_BAL\n",
    "data.info()"
   ]
  },
  {
   "cell_type": "code",
   "execution_count": 48,
   "metadata": {},
   "outputs": [],
   "source": [
    "data = data.drop(['SEX','MARRIAGE','Default_No','Default_Yes'], axis=1)"
   ]
  },
  {
   "cell_type": "code",
   "execution_count": 49,
   "metadata": {},
   "outputs": [
    {
     "name": "stdout",
     "output_type": "stream",
     "text": [
      "(29965, 40)\n",
      "(29965,)\n"
     ]
    }
   ],
   "source": [
    "X = data.drop(['Default'], axis=1)\n",
    "y = data['Default']\n",
    "print(X.shape)\n",
    "print(y.shape)"
   ]
  },
  {
   "cell_type": "code",
   "execution_count": 50,
   "metadata": {},
   "outputs": [],
   "source": [
    "# Prepare the Models\n",
    "algosClass = []\n",
    "algosClass.append(('Random Forest Classifier', RandomForestClassifier()))\n",
    "algosClass.append(('Gradient Boosting Classifier', GradientBoostingClassifier()))\n",
    "algosClass.append(('Support Vector Classifier', SVC()))\n",
    "algosClass.append(('MLP Classifier', MLPClassifier()))"
   ]
  },
  {
   "cell_type": "code",
   "execution_count": 51,
   "metadata": {},
   "outputs": [],
   "source": [
    "# Classification\n",
    "results = []\n",
    "names = []\n",
    "for name, model in algosClass:\n",
    "    result = cross_val_score(model, X, y, cv=3)\n",
    "    names.append(name)\n",
    "    results.append(result)"
   ]
  },
  {
   "cell_type": "code",
   "execution_count": 52,
   "metadata": {},
   "outputs": [
    {
     "name": "stdout",
     "output_type": "stream",
     "text": [
      "Random Forest Classifier 0.8133491393997554\n",
      "Gradient Boosting Classifier 0.8209914800286455\n",
      "Support Vector Classifier 0.7787418650169439\n",
      "MLP Classifier 0.6171484835428169\n"
     ]
    }
   ],
   "source": [
    "# Output\n",
    "for i in range(len(names)):\n",
    "    print(names[i], results[i].mean())"
   ]
  },
  {
   "cell_type": "markdown",
   "metadata": {},
   "source": [
    "Not a bad start. Lets standardize the data and see if accuracy improves."
   ]
  },
  {
   "cell_type": "code",
   "execution_count": 53,
   "metadata": {},
   "outputs": [
    {
     "name": "stdout",
     "output_type": "stream",
     "text": [
      "(29965, 40)\n"
     ]
    }
   ],
   "source": [
    "# Create the scaler, fit it to X, and then transform X to scaled data\n",
    "scaler = preprocessing.StandardScaler(with_mean=False).fit(X)\n",
    "X_scaled = scaler.transform(X)\n",
    "print(X_scaled.shape)"
   ]
  },
  {
   "cell_type": "code",
   "execution_count": 54,
   "metadata": {},
   "outputs": [
    {
     "name": "stderr",
     "output_type": "stream",
     "text": [
      "C:\\Users\\Owner\\New folder\\envs\\DataScience\\lib\\site-packages\\sklearn\\neural_network\\_multilayer_perceptron.py:582: ConvergenceWarning: Stochastic Optimizer: Maximum iterations (200) reached and the optimization hasn't converged yet.\n",
      "  warnings.warn(\n",
      "C:\\Users\\Owner\\New folder\\envs\\DataScience\\lib\\site-packages\\sklearn\\neural_network\\_multilayer_perceptron.py:582: ConvergenceWarning: Stochastic Optimizer: Maximum iterations (200) reached and the optimization hasn't converged yet.\n",
      "  warnings.warn(\n",
      "C:\\Users\\Owner\\New folder\\envs\\DataScience\\lib\\site-packages\\sklearn\\neural_network\\_multilayer_perceptron.py:582: ConvergenceWarning: Stochastic Optimizer: Maximum iterations (200) reached and the optimization hasn't converged yet.\n",
      "  warnings.warn(\n"
     ]
    }
   ],
   "source": [
    "# Classification\n",
    "results = []\n",
    "names = []\n",
    "for name, model in algosClass:\n",
    "    result = cross_val_score(model, X_scaled, y, cv=3)\n",
    "    names.append(name)\n",
    "    results.append(result)"
   ]
  },
  {
   "cell_type": "code",
   "execution_count": 55,
   "metadata": {},
   "outputs": [
    {
     "name": "stdout",
     "output_type": "stream",
     "text": [
      "Random Forest Classifier 0.8130154156088851\n",
      "Gradient Boosting Classifier 0.8209247399478902\n",
      "Support Vector Classifier 0.819589777964144\n",
      "MLP Classifier 0.8041049633304418\n"
     ]
    }
   ],
   "source": [
    "# Output\n",
    "for i in range(len(names)):\n",
    "    print(names[i], results[i].mean())"
   ]
  },
  {
   "cell_type": "markdown",
   "metadata": {},
   "source": [
    "I can clearly see that standardizing the data greatly improves some models, while having little to no affect on other models like Random Forst and Gradient Boosting. Now I want to use PCA for feature selection and dimensionality reduction."
   ]
  },
  {
   "cell_type": "code",
   "execution_count": 56,
   "metadata": {},
   "outputs": [
    {
     "name": "stdout",
     "output_type": "stream",
     "text": [
      "(29965, 40)\n"
     ]
    }
   ],
   "source": [
    "pca = PCA()\n",
    "X_pca = pca.fit_transform(X)\n",
    "print(X_pca.shape)"
   ]
  },
  {
   "cell_type": "code",
   "execution_count": 57,
   "metadata": {},
   "outputs": [
    {
     "data": {
      "image/png": "[encoded data removed]",
      "text/plain": [
       "<Figure size 432x288 with 1 Axes>"
      ]
     },
     "metadata": {
      "needs_background": "light"
     },
     "output_type": "display_data"
    }
   ],
   "source": [
    "def myplot(score,coeff,labels=None):\n",
    "    xs = score[:,0]\n",
    "    ys = score[:,1]\n",
    "    n = coeff.shape[0]\n",
    "    scalex = 1.0/(xs.max() - xs.min())\n",
    "    scaley = 1.0/(ys.max() - ys.min())\n",
    "    plt.scatter(xs * scalex,ys * scaley, c = y)\n",
    "    for i in range(n):\n",
    "        plt.arrow(0, 0, coeff[i,0], coeff[i,1],color = 'r',alpha = 0.5)\n",
    "        if labels is None:\n",
    "            plt.text(coeff[i,0]* 1.15, coeff[i,1] * 1.15, \"Var\"+str(i+1), color = 'g', ha = 'center', va = 'center')\n",
    "        else:\n",
    "            plt.text(coeff[i,0]* 1.15, coeff[i,1] * 1.15, labels[i], color = 'g', ha = 'center', va = 'center')\n",
    "plt.xlim(-1,1)\n",
    "plt.ylim(-1,1)\n",
    "plt.xlabel(\"PC{}\".format(1))\n",
    "plt.ylabel(\"PC{}\".format(2))\n",
    "plt.grid()\n",
    "\n",
    "#Call the function. Use only the 2 PCs.\n",
    "myplot(X_pca[:,0:2],np.transpose(pca.components_[0:2, :]))\n",
    "plt.show()"
   ]
  },
  {
   "cell_type": "code",
   "execution_count": 58,
   "metadata": {},
   "outputs": [
    {
     "data": {
      "text/plain": [
       "array([6.10612924e-01, 2.95117659e-01, 3.05447669e-02, 1.69396869e-02,\n",
       "       9.42411874e-03, 9.04756293e-03, 7.54956892e-03, 6.38914729e-03,\n",
       "       5.84098414e-03, 2.96871351e-03, 2.38662298e-03, 1.69889595e-03,\n",
       "       1.47934730e-03, 1.86863342e-09, 1.40897714e-10, 4.61931044e-11,\n",
       "       1.27343261e-11, 1.19378209e-11, 8.48977255e-12, 7.31746218e-12,\n",
       "       6.37006576e-12, 4.47107308e-12, 4.24333330e-12, 3.99245667e-12,\n",
       "       3.54570481e-12, 3.22335274e-12, 2.28677397e-12, 1.97785304e-12,\n",
       "       7.05285924e-13, 6.37926112e-13, 4.45856544e-13, 2.44138448e-13,\n",
       "       1.53835339e-13, 9.93624035e-14, 9.48626631e-14, 4.73966169e-33,\n",
       "       4.73966169e-33, 4.73966169e-33, 4.73966169e-33, 4.73966169e-33])"
      ]
     },
     "execution_count": 58,
     "metadata": {},
     "output_type": "execute_result"
    }
   ],
   "source": [
    "pca.explained_variance_ratio_"
   ]
  },
  {
   "cell_type": "markdown",
   "metadata": {},
   "source": [
    "I see that PC1 and PC2 explain 90% of the variance, lets make a data frame to show the top 20 most important features in PC1 and PC2."
   ]
  },
  {
   "cell_type": "code",
   "execution_count": 60,
   "metadata": {},
   "outputs": [
    {
     "data": {
      "text/html": [
       "<div>\n",
       "<style scoped>\n",
       "    .dataframe tbody tr th:only-of-type {\n",
       "        vertical-align: middle;\n",
       "    }\n",
       "\n",
       "    .dataframe tbody tr th {\n",
       "        vertical-align: top;\n",
       "    }\n",
       "\n",
       "    .dataframe thead th {\n",
       "        text-align: right;\n",
       "    }\n",
       "</style>\n",
       "<table border=\"1\" class=\"dataframe\">\n",
       "  <thead>\n",
       "    <tr style=\"text-align: right;\">\n",
       "      <th></th>\n",
       "      <th>PC1</th>\n",
       "      <th>PC2</th>\n",
       "      <th>PC3</th>\n",
       "      <th>PC4</th>\n",
       "      <th>PC5</th>\n",
       "      <th>PC6</th>\n",
       "      <th>PC7</th>\n",
       "      <th>PC8</th>\n",
       "      <th>PC9</th>\n",
       "      <th>PC10</th>\n",
       "      <th>...</th>\n",
       "      <th>PC31</th>\n",
       "      <th>PC32</th>\n",
       "      <th>PC33</th>\n",
       "      <th>PC34</th>\n",
       "      <th>PC35</th>\n",
       "      <th>PC36</th>\n",
       "      <th>PC37</th>\n",
       "      <th>PC38</th>\n",
       "      <th>PC39</th>\n",
       "      <th>PC40</th>\n",
       "    </tr>\n",
       "  </thead>\n",
       "  <tbody>\n",
       "    <tr>\n",
       "      <th>LIMIT_BAL</th>\n",
       "      <td>4.916858e-01</td>\n",
       "      <td>0.868962</td>\n",
       "      <td>2.061082e-02</td>\n",
       "      <td>1.845104e-02</td>\n",
       "      <td>0.044174</td>\n",
       "      <td>1.701076e-02</td>\n",
       "      <td>1.134871e-03</td>\n",
       "      <td>1.031631e-03</td>\n",
       "      <td>0.009478</td>\n",
       "      <td>3.763292e-03</td>\n",
       "      <td>...</td>\n",
       "      <td>3.977159e-08</td>\n",
       "      <td>9.843155e-08</td>\n",
       "      <td>5.134532e-09</td>\n",
       "      <td>4.204211e-08</td>\n",
       "      <td>1.206316e-08</td>\n",
       "      <td>0.000000e+00</td>\n",
       "      <td>0.000000e+00</td>\n",
       "      <td>0.000000e+00</td>\n",
       "      <td>0.000000e+00</td>\n",
       "      <td>0.000000e+00</td>\n",
       "    </tr>\n",
       "    <tr>\n",
       "      <th>AGE</th>\n",
       "      <td>5.558580e-06</td>\n",
       "      <td>0.000008</td>\n",
       "      <td>4.129510e-06</td>\n",
       "      <td>2.702688e-07</td>\n",
       "      <td>0.000005</td>\n",
       "      <td>1.566212e-06</td>\n",
       "      <td>1.500083e-06</td>\n",
       "      <td>2.041818e-06</td>\n",
       "      <td>0.000007</td>\n",
       "      <td>1.470180e-07</td>\n",
       "      <td>...</td>\n",
       "      <td>3.734293e-04</td>\n",
       "      <td>3.038061e-04</td>\n",
       "      <td>2.976327e-05</td>\n",
       "      <td>4.641719e-05</td>\n",
       "      <td>6.243234e-05</td>\n",
       "      <td>2.596276e-14</td>\n",
       "      <td>1.650785e-15</td>\n",
       "      <td>9.190073e-16</td>\n",
       "      <td>2.776995e-17</td>\n",
       "      <td>1.588733e-15</td>\n",
       "    </tr>\n",
       "    <tr>\n",
       "      <th>PAY_1</th>\n",
       "      <td>2.415214e-07</td>\n",
       "      <td>0.000001</td>\n",
       "      <td>9.347977e-07</td>\n",
       "      <td>1.145391e-06</td>\n",
       "      <td>0.000003</td>\n",
       "      <td>1.087870e-06</td>\n",
       "      <td>4.177650e-07</td>\n",
       "      <td>6.450921e-07</td>\n",
       "      <td>0.000001</td>\n",
       "      <td>9.723994e-07</td>\n",
       "      <td>...</td>\n",
       "      <td>5.092214e-03</td>\n",
       "      <td>2.505582e-03</td>\n",
       "      <td>9.858579e-04</td>\n",
       "      <td>4.980460e-04</td>\n",
       "      <td>8.736010e-04</td>\n",
       "      <td>1.572597e-13</td>\n",
       "      <td>3.558080e-14</td>\n",
       "      <td>2.332228e-14</td>\n",
       "      <td>2.751997e-14</td>\n",
       "      <td>1.789009e-15</td>\n",
       "    </tr>\n",
       "    <tr>\n",
       "      <th>PAY_2</th>\n",
       "      <td>2.635762e-07</td>\n",
       "      <td>0.000001</td>\n",
       "      <td>1.062429e-06</td>\n",
       "      <td>1.285629e-06</td>\n",
       "      <td>0.000002</td>\n",
       "      <td>1.264194e-06</td>\n",
       "      <td>1.379017e-06</td>\n",
       "      <td>7.585250e-07</td>\n",
       "      <td>0.000002</td>\n",
       "      <td>4.261634e-07</td>\n",
       "      <td>...</td>\n",
       "      <td>4.525598e-03</td>\n",
       "      <td>5.806781e-03</td>\n",
       "      <td>3.210201e-03</td>\n",
       "      <td>1.057672e-02</td>\n",
       "      <td>7.518097e-04</td>\n",
       "      <td>1.127823e-13</td>\n",
       "      <td>5.377047e-14</td>\n",
       "      <td>1.727978e-14</td>\n",
       "      <td>3.210361e-14</td>\n",
       "      <td>3.723732e-14</td>\n",
       "    </tr>\n",
       "    <tr>\n",
       "      <th>PAY_3</th>\n",
       "      <td>3.281170e-07</td>\n",
       "      <td>0.000001</td>\n",
       "      <td>1.492977e-06</td>\n",
       "      <td>1.318987e-06</td>\n",
       "      <td>0.000003</td>\n",
       "      <td>5.901115e-07</td>\n",
       "      <td>1.475957e-06</td>\n",
       "      <td>3.936789e-07</td>\n",
       "      <td>0.000001</td>\n",
       "      <td>5.995955e-07</td>\n",
       "      <td>...</td>\n",
       "      <td>1.954786e-03</td>\n",
       "      <td>4.233196e-04</td>\n",
       "      <td>1.775244e-03</td>\n",
       "      <td>1.272260e-02</td>\n",
       "      <td>2.364103e-03</td>\n",
       "      <td>8.354953e-14</td>\n",
       "      <td>2.363237e-14</td>\n",
       "      <td>2.300215e-14</td>\n",
       "      <td>6.370740e-15</td>\n",
       "      <td>7.829493e-15</td>\n",
       "    </tr>\n",
       "  </tbody>\n",
       "</table>\n",
       "<p>5 rows × 40 columns</p>\n",
       "</div>"
      ],
      "text/plain": [
       "                    PC1       PC2           PC3           PC4       PC5  \\\n",
       "LIMIT_BAL  4.916858e-01  0.868962  2.061082e-02  1.845104e-02  0.044174   \n",
       "AGE        5.558580e-06  0.000008  4.129510e-06  2.702688e-07  0.000005   \n",
       "PAY_1      2.415214e-07  0.000001  9.347977e-07  1.145391e-06  0.000003   \n",
       "PAY_2      2.635762e-07  0.000001  1.062429e-06  1.285629e-06  0.000002   \n",
       "PAY_3      3.281170e-07  0.000001  1.492977e-06  1.318987e-06  0.000003   \n",
       "\n",
       "                    PC6           PC7           PC8       PC9          PC10  \\\n",
       "LIMIT_BAL  1.701076e-02  1.134871e-03  1.031631e-03  0.009478  3.763292e-03   \n",
       "AGE        1.566212e-06  1.500083e-06  2.041818e-06  0.000007  1.470180e-07   \n",
       "PAY_1      1.087870e-06  4.177650e-07  6.450921e-07  0.000001  9.723994e-07   \n",
       "PAY_2      1.264194e-06  1.379017e-06  7.585250e-07  0.000002  4.261634e-07   \n",
       "PAY_3      5.901115e-07  1.475957e-06  3.936789e-07  0.000001  5.995955e-07   \n",
       "\n",
       "           ...          PC31          PC32          PC33          PC34  \\\n",
       "LIMIT_BAL  ...  3.977159e-08  9.843155e-08  5.134532e-09  4.204211e-08   \n",
       "AGE        ...  3.734293e-04  3.038061e-04  2.976327e-05  4.641719e-05   \n",
       "PAY_1      ...  5.092214e-03  2.505582e-03  9.858579e-04  4.980460e-04   \n",
       "PAY_2      ...  4.525598e-03  5.806781e-03  3.210201e-03  1.057672e-02   \n",
       "PAY_3      ...  1.954786e-03  4.233196e-04  1.775244e-03  1.272260e-02   \n",
       "\n",
       "                   PC35          PC36          PC37          PC38  \\\n",
       "LIMIT_BAL  1.206316e-08  0.000000e+00  0.000000e+00  0.000000e+00   \n",
       "AGE        6.243234e-05  2.596276e-14  1.650785e-15  9.190073e-16   \n",
       "PAY_1      8.736010e-04  1.572597e-13  3.558080e-14  2.332228e-14   \n",
       "PAY_2      7.518097e-04  1.127823e-13  5.377047e-14  1.727978e-14   \n",
       "PAY_3      2.364103e-03  8.354953e-14  2.363237e-14  2.300215e-14   \n",
       "\n",
       "                   PC39          PC40  \n",
       "LIMIT_BAL  0.000000e+00  0.000000e+00  \n",
       "AGE        2.776995e-17  1.588733e-15  \n",
       "PAY_1      2.751997e-14  1.789009e-15  \n",
       "PAY_2      3.210361e-14  3.723732e-14  \n",
       "PAY_3      6.370740e-15  7.829493e-15  \n",
       "\n",
       "[5 rows x 40 columns]"
      ]
     },
     "metadata": {},
     "output_type": "display_data"
    },
    {
     "name": "stdout",
     "output_type": "stream",
     "text": [
      "\n",
      "PC1 top 20 feautres are \n",
      "\n"
     ]
    },
    {
     "data": {
      "text/plain": [
       "LIMIT_BAL    4.916858e-01\n",
       "BILL_AMT1    3.884241e-01\n",
       "BILL_AMT2    3.813305e-01\n",
       "BILL_AMT3    3.721580e-01\n",
       "BILL_AMT4    3.463797e-01\n",
       "BILL_AMT5    3.229038e-01\n",
       "BILL_AMT6    3.085607e-01\n",
       "PAY_AMT2     3.127975e-02\n",
       "PAY_AMT3     2.681238e-02\n",
       "PAY_AMT1     2.655962e-02\n",
       "PAY_AMT6     2.480320e-02\n",
       "PAY_AMT5     2.219793e-02\n",
       "PAY_AMT4     2.216147e-02\n",
       "AGE          5.558580e-06\n",
       "LB_Disc      3.764304e-06\n",
       "BA1_2_LB     6.724432e-07\n",
       "BA2_2_LB     6.710713e-07\n",
       "BA3_2_LB     6.699432e-07\n",
       "Age_Disc     6.481356e-07\n",
       "BA4_2_LB     6.183482e-07\n",
       "Name: PC1, dtype: float64"
      ]
     },
     "metadata": {},
     "output_type": "display_data"
    },
    {
     "name": "stdout",
     "output_type": "stream",
     "text": [
      "\n",
      "PC2 top 20 feautres are \n",
      "\n"
     ]
    },
    {
     "data": {
      "text/plain": [
       "LIMIT_BAL    0.868962\n",
       "BILL_AMT2    0.226430\n",
       "BILL_AMT1    0.221398\n",
       "BILL_AMT3    0.216588\n",
       "BILL_AMT4    0.194090\n",
       "BILL_AMT5    0.176808\n",
       "BILL_AMT6    0.167391\n",
       "PAY_AMT6     0.015392\n",
       "PAY_AMT5     0.011742\n",
       "PAY_AMT3     0.011019\n",
       "PAY_AMT2     0.010841\n",
       "PAY_AMT4     0.010412\n",
       "PAY_AMT1     0.005762\n",
       "AGE          0.000008\n",
       "LB_Disc      0.000006\n",
       "BA1_2_LB     0.000002\n",
       "BA2_2_LB     0.000002\n",
       "BA3_2_LB     0.000002\n",
       "BA4_2_LB     0.000002\n",
       "BA5_2_LB     0.000002\n",
       "Name: PC2, dtype: float64"
      ]
     },
     "metadata": {},
     "output_type": "display_data"
    }
   ],
   "source": [
    "# X is the original numeric dataframe\n",
    "# pca is the model\n",
    "def create_importance_dataframe(pca, X):\n",
    "\n",
    "    # Change pcs components ndarray to a dataframe\n",
    "    importance_df = pd.DataFrame(pca.components_)\n",
    "\n",
    "    # Assign columns\n",
    "    importance_df.columns = X.columns\n",
    "\n",
    "    # Change to absolute values\n",
    "    importance_df = importance_df.apply(np.abs)\n",
    "\n",
    "    # Transpose\n",
    "    importance_df = importance_df.transpose()\n",
    "\n",
    "    # Change column names again\n",
    "\n",
    "    ## First get number of pcs\n",
    "    num_pcs = importance_df.shape[1]\n",
    "\n",
    "    ## Generate the new column names\n",
    "    new_columns = [f'PC{i}' for i in range(1, num_pcs + 1)]\n",
    "\n",
    "    ## Now rename\n",
    "    importance_df.columns = new_columns\n",
    "\n",
    "    # Return importance df\n",
    "    return importance_df\n",
    "\n",
    "# Call function to create importance df\n",
    "importance_df = create_importance_dataframe(pca, X)\n",
    "\n",
    "# Show first few rows\n",
    "display(importance_df.head())\n",
    "\n",
    "# Sort depending on PC of interest\n",
    "\n",
    "## PC1 top 20 important features\n",
    "pc1_top_20_features = importance_df['PC1'].sort_values(ascending = False)[:20]\n",
    "print(), print(f'PC1 top 20 feautres are \\n')\n",
    "display(pc1_top_20_features )\n",
    "\n",
    "## PC2 top 20 important features\n",
    "pc2_top_20_features = importance_df['PC2'].sort_values(ascending = False)[:20]\n",
    "print(), print(f'PC2 top 20 feautres are \\n')\n",
    "display(pc2_top_20_features )"
   ]
  },
  {
   "cell_type": "markdown",
   "metadata": {},
   "source": [
    "Limit Balance is actually the top variable for both PC1 and PC2, followed by Bill Amounts 1-6 and Pay Amounts 1-6."
   ]
  },
  {
   "cell_type": "code",
   "execution_count": 61,
   "metadata": {},
   "outputs": [
    {
     "name": "stdout",
     "output_type": "stream",
     "text": [
      "(29965, 40)\n"
     ]
    }
   ],
   "source": [
    "pca = PCA()\n",
    "X_pca_scaled = pca.fit_transform(X_scaled)\n",
    "print(X_pca_scaled.shape)"
   ]
  },
  {
   "cell_type": "code",
   "execution_count": 62,
   "metadata": {},
   "outputs": [
    {
     "name": "stderr",
     "output_type": "stream",
     "text": [
      "C:\\Users\\Owner\\New folder\\envs\\DataScience\\lib\\site-packages\\sklearn\\neural_network\\_multilayer_perceptron.py:582: ConvergenceWarning: Stochastic Optimizer: Maximum iterations (200) reached and the optimization hasn't converged yet.\n",
      "  warnings.warn(\n",
      "C:\\Users\\Owner\\New folder\\envs\\DataScience\\lib\\site-packages\\sklearn\\neural_network\\_multilayer_perceptron.py:582: ConvergenceWarning: Stochastic Optimizer: Maximum iterations (200) reached and the optimization hasn't converged yet.\n",
      "  warnings.warn(\n",
      "C:\\Users\\Owner\\New folder\\envs\\DataScience\\lib\\site-packages\\sklearn\\neural_network\\_multilayer_perceptron.py:582: ConvergenceWarning: Stochastic Optimizer: Maximum iterations (200) reached and the optimization hasn't converged yet.\n",
      "  warnings.warn(\n"
     ]
    }
   ],
   "source": [
    "# Classification\n",
    "results = []\n",
    "names = []\n",
    "for name, model in algosClass:\n",
    "    result = cross_val_score(model, X_pca_scaled, y, cv=3)\n",
    "    names.append(name)\n",
    "    results.append(result)"
   ]
  },
  {
   "cell_type": "code",
   "execution_count": 63,
   "metadata": {},
   "outputs": [
    {
     "name": "stdout",
     "output_type": "stream",
     "text": [
      "Random Forest Classifier 0.8141167004436425\n",
      "Gradient Boosting Classifier 0.81728707144539\n",
      "Support Vector Classifier 0.8195897813051571\n",
      "MLP Classifier 0.802202660545075\n"
     ]
    }
   ],
   "source": [
    "# Output\n",
    "for i in range(len(names)):\n",
    "    print(names[i], results[i].mean())"
   ]
  },
  {
   "cell_type": "code",
   "execution_count": 64,
   "metadata": {},
   "outputs": [
    {
     "name": "stdout",
     "output_type": "stream",
     "text": [
      "(29965, 20)\n"
     ]
    }
   ],
   "source": [
    "pca = PCA(n_components=20, whiten=True)\n",
    "X_pca_scaled_2 = pca.fit_transform(X_scaled)\n",
    "print(X_pca_scaled_2.shape)"
   ]
  },
  {
   "cell_type": "code",
   "execution_count": 65,
   "metadata": {},
   "outputs": [
    {
     "name": "stderr",
     "output_type": "stream",
     "text": [
      "C:\\Users\\Owner\\New folder\\envs\\DataScience\\lib\\site-packages\\sklearn\\neural_network\\_multilayer_perceptron.py:582: ConvergenceWarning: Stochastic Optimizer: Maximum iterations (200) reached and the optimization hasn't converged yet.\n",
      "  warnings.warn(\n",
      "C:\\Users\\Owner\\New folder\\envs\\DataScience\\lib\\site-packages\\sklearn\\neural_network\\_multilayer_perceptron.py:582: ConvergenceWarning: Stochastic Optimizer: Maximum iterations (200) reached and the optimization hasn't converged yet.\n",
      "  warnings.warn(\n",
      "C:\\Users\\Owner\\New folder\\envs\\DataScience\\lib\\site-packages\\sklearn\\neural_network\\_multilayer_perceptron.py:582: ConvergenceWarning: Stochastic Optimizer: Maximum iterations (200) reached and the optimization hasn't converged yet.\n",
      "  warnings.warn(\n"
     ]
    }
   ],
   "source": [
    "# Classification\n",
    "results = []\n",
    "names = []\n",
    "for name, model in algosClass:\n",
    "    result = cross_val_score(model, X_pca_scaled_2, y, cv=3)\n",
    "    names.append(name)\n",
    "    results.append(result)"
   ]
  },
  {
   "cell_type": "code",
   "execution_count": 66,
   "metadata": {},
   "outputs": [
    {
     "name": "stdout",
     "output_type": "stream",
     "text": [
      "Random Forest Classifier 0.8092442869909537\n",
      "Gradient Boosting Classifier 0.8136494396940358\n",
      "Support Vector Classifier 0.8163192600901173\n",
      "MLP Classifier 0.8080094551744202\n"
     ]
    }
   ],
   "source": [
    "# Output\n",
    "for i in range(len(names)):\n",
    "    print(names[i], results[i].mean())"
   ]
  },
  {
   "cell_type": "markdown",
   "metadata": {},
   "source": [
    "What I observe from this is that the Random Forest Classifier slightly improves from PCA, Gradient Boosting Classifier does not improve from scaling and PCA, while SV and MLP Classifiers improve from Scaling. Again, the Gradient Boosting Classifier is consistently more accurate than the other models, and PCA and scaling is not needed."
   ]
  },
  {
   "cell_type": "code",
   "execution_count": 70,
   "metadata": {},
   "outputs": [
    {
     "name": "stdout",
     "output_type": "stream",
     "text": [
      "(29965, 27)\n",
      "(29965,)\n"
     ]
    }
   ],
   "source": [
    "X = data[['LIMIT_BAL','BILL_AMT1','BILL_AMT2','BILL_AMT3','BILL_AMT4','BILL_AMT5','BILL_AMT6','PAY_AMT1','PAY_AMT2',\n",
    "         'PAY_AMT3','PAY_AMT4','PAY_AMT5','PAY_AMT6','PAY_1','PAY_2','PAY_3','PAY_4','PAY_5','PAY_6','AGE','BA1_2_LB',\n",
    "         'BA2_2_LB','BA3_2_LB','BA4_2_LB','BA5_2_LB','BA6_2_LB','No_Delays_6']]\n",
    "y = data['Default']\n",
    "print(X.shape)\n",
    "print(y.shape)"
   ]
  },
  {
   "cell_type": "code",
   "execution_count": 71,
   "metadata": {},
   "outputs": [],
   "source": [
    "# Split the data into training and testing sets\n",
    "X_train, X_test, y_train, y_test = train_test_split(X, y, test_size = .25, random_state = 123)"
   ]
  },
  {
   "cell_type": "code",
   "execution_count": 72,
   "metadata": {},
   "outputs": [],
   "source": [
    "algo = GradientBoostingClassifier()\n",
    "model = algo.fit(X_train, y_train)\n",
    "preds = model.predict(X_test)"
   ]
  },
  {
   "cell_type": "code",
   "execution_count": 73,
   "metadata": {},
   "outputs": [
    {
     "data": {
      "text/plain": [
       "0.8198077949813134"
      ]
     },
     "execution_count": 73,
     "metadata": {},
     "output_type": "execute_result"
    }
   ],
   "source": [
    "# View the Accuracy Score of the model\n",
    "accuracy_score(y_test, preds)"
   ]
  },
  {
   "cell_type": "code",
   "execution_count": 74,
   "metadata": {},
   "outputs": [
    {
     "name": "stdout",
     "output_type": "stream",
     "text": [
      "              precision    recall  f1-score   support\n",
      "\n",
      "           0       0.83      0.96      0.89      5804\n",
      "           1       0.70      0.35      0.47      1688\n",
      "\n",
      "    accuracy                           0.82      7492\n",
      "   macro avg       0.77      0.65      0.68      7492\n",
      "weighted avg       0.80      0.82      0.80      7492\n",
      "\n"
     ]
    }
   ],
   "source": [
    "# Print the classification report using the predictions and ground truth to assess the model\n",
    "print(classification_report(y_test, preds))"
   ]
  },
  {
   "cell_type": "code",
   "execution_count": 75,
   "metadata": {},
   "outputs": [
    {
     "data": {
      "image/png": "[encoded data removed]",
      "text/plain": [
       "<Figure size 504x288 with 1 Axes>"
      ]
     },
     "metadata": {
      "needs_background": "light"
     },
     "output_type": "display_data"
    }
   ],
   "source": [
    "tmp = pd.DataFrame({'Feature': X, 'Feature importance': algo.feature_importances_})\n",
    "tmp = tmp.sort_values(by='Feature importance',ascending=False)\n",
    "plt.figure(figsize = (7,4))\n",
    "plt.title('Features importance',fontsize=14)\n",
    "s = sns.barplot(x='Feature',y='Feature importance',data=tmp)\n",
    "s.set_xticklabels(s.get_xticklabels(),rotation=90)\n",
    "plt.show()"
   ]
  },
  {
   "cell_type": "markdown",
   "metadata": {},
   "source": [
    "The variable Pay 1 is by far the most important feature for Default. Lets set some parameters for the model."
   ]
  },
  {
   "cell_type": "code",
   "execution_count": 77,
   "metadata": {},
   "outputs": [],
   "source": [
    "# Train the Model\n",
    "algo = GradientBoostingClassifier(n_estimators=300, learning_rate=0.2, max_depth=3, random_state=0)\n",
    "model = algo.fit(X_train, y_train)\n",
    "preds = model.predict(X_test)"
   ]
  },
  {
   "cell_type": "code",
   "execution_count": 78,
   "metadata": {},
   "outputs": [
    {
     "data": {
      "text/plain": [
       "0.8175387079551522"
      ]
     },
     "execution_count": 78,
     "metadata": {},
     "output_type": "execute_result"
    }
   ],
   "source": [
    "# View the Accuracy Score of the model\n",
    "accuracy_score(y_test, preds)"
   ]
  },
  {
   "cell_type": "code",
   "execution_count": 79,
   "metadata": {},
   "outputs": [
    {
     "name": "stdout",
     "output_type": "stream",
     "text": [
      "              precision    recall  f1-score   support\n",
      "\n",
      "           0       0.84      0.95      0.89      5804\n",
      "           1       0.68      0.36      0.47      1688\n",
      "\n",
      "    accuracy                           0.82      7492\n",
      "   macro avg       0.76      0.66      0.68      7492\n",
      "weighted avg       0.80      0.82      0.80      7492\n",
      "\n"
     ]
    }
   ],
   "source": [
    "# Print the classification report using the predictions and ground truth to assess the model\n",
    "print(classification_report(y_test, preds))"
   ]
  },
  {
   "cell_type": "code",
   "execution_count": 80,
   "metadata": {},
   "outputs": [],
   "source": [
    "# Train the Model\n",
    "algo = GradientBoostingClassifier(n_estimators=300, learning_rate=0.1, max_depth=4, random_state=0)\n",
    "model = algo.fit(X_train, y_train)\n",
    "preds = model.predict(X_test)"
   ]
  },
  {
   "cell_type": "code",
   "execution_count": 81,
   "metadata": {},
   "outputs": [
    {
     "data": {
      "text/plain": [
       "0.8190069407367859"
      ]
     },
     "execution_count": 81,
     "metadata": {},
     "output_type": "execute_result"
    }
   ],
   "source": [
    "# View the Accuracy Score of the model\n",
    "accuracy_score(y_test, preds)"
   ]
  },
  {
   "cell_type": "code",
   "execution_count": 82,
   "metadata": {},
   "outputs": [
    {
     "name": "stdout",
     "output_type": "stream",
     "text": [
      "              precision    recall  f1-score   support\n",
      "\n",
      "           0       0.84      0.95      0.89      5804\n",
      "           1       0.68      0.37      0.48      1688\n",
      "\n",
      "    accuracy                           0.82      7492\n",
      "   macro avg       0.76      0.66      0.68      7492\n",
      "weighted avg       0.80      0.82      0.80      7492\n",
      "\n"
     ]
    }
   ],
   "source": [
    "# Print the classification report using the predictions and ground truth to assess the model\n",
    "print(classification_report(y_test, preds))"
   ]
  },
  {
   "cell_type": "markdown",
   "metadata": {},
   "source": [
    "I want to get the Recall score up for Default = 1 (Less FN predictions). I will try to balance out the target variable by upsampling the minority group (Default=1) and downsampling the majority group (Default=0)."
   ]
  },
  {
   "cell_type": "code",
   "execution_count": 83,
   "metadata": {},
   "outputs": [],
   "source": [
    "features = ['LIMIT_BAL','BILL_AMT1','BILL_AMT2','BILL_AMT3','BILL_AMT4','BILL_AMT5','BILL_AMT6','PAY_AMT1','PAY_AMT2',\n",
    "         'PAY_AMT3','PAY_AMT4','PAY_AMT5','PAY_AMT6','PAY_1','PAY_2','PAY_3','PAY_4','PAY_5','PAY_6','AGE','BA1_2_LB',\n",
    "         'BA2_2_LB','BA3_2_LB','BA4_2_LB','BA5_2_LB','BA6_2_LB','No_Delays_6']\n",
    "y = data['Default'].copy()\n",
    "X = data[features].copy()\n",
    "X_train, X_test, y_train, y_test = train_test_split(X, y, test_size = .25, random_state = 123)"
   ]
  },
  {
   "cell_type": "code",
   "execution_count": 84,
   "metadata": {},
   "outputs": [
    {
     "data": {
      "text/html": [
       "<div>\n",
       "<style scoped>\n",
       "    .dataframe tbody tr th:only-of-type {\n",
       "        vertical-align: middle;\n",
       "    }\n",
       "\n",
       "    .dataframe tbody tr th {\n",
       "        vertical-align: top;\n",
       "    }\n",
       "\n",
       "    .dataframe thead th {\n",
       "        text-align: right;\n",
       "    }\n",
       "</style>\n",
       "<table border=\"1\" class=\"dataframe\">\n",
       "  <thead>\n",
       "    <tr style=\"text-align: right;\">\n",
       "      <th></th>\n",
       "      <th>LIMIT_BAL</th>\n",
       "      <th>BILL_AMT1</th>\n",
       "      <th>BILL_AMT2</th>\n",
       "      <th>BILL_AMT3</th>\n",
       "      <th>BILL_AMT4</th>\n",
       "      <th>BILL_AMT5</th>\n",
       "      <th>BILL_AMT6</th>\n",
       "      <th>PAY_AMT1</th>\n",
       "      <th>PAY_AMT2</th>\n",
       "      <th>PAY_AMT3</th>\n",
       "      <th>...</th>\n",
       "      <th>PAY_6</th>\n",
       "      <th>AGE</th>\n",
       "      <th>BA1_2_LB</th>\n",
       "      <th>BA2_2_LB</th>\n",
       "      <th>BA3_2_LB</th>\n",
       "      <th>BA4_2_LB</th>\n",
       "      <th>BA5_2_LB</th>\n",
       "      <th>BA6_2_LB</th>\n",
       "      <th>No_Delays_6</th>\n",
       "      <th>Default</th>\n",
       "    </tr>\n",
       "  </thead>\n",
       "  <tbody>\n",
       "    <tr>\n",
       "      <th>8332</th>\n",
       "      <td>480000</td>\n",
       "      <td>24610</td>\n",
       "      <td>-310</td>\n",
       "      <td>148544</td>\n",
       "      <td>18791</td>\n",
       "      <td>5909</td>\n",
       "      <td>68988</td>\n",
       "      <td>4</td>\n",
       "      <td>149654</td>\n",
       "      <td>18885</td>\n",
       "      <td>...</td>\n",
       "      <td>0</td>\n",
       "      <td>58</td>\n",
       "      <td>0.948729</td>\n",
       "      <td>1.000646</td>\n",
       "      <td>0.690533</td>\n",
       "      <td>0.960852</td>\n",
       "      <td>0.987690</td>\n",
       "      <td>0.856275</td>\n",
       "      <td>1</td>\n",
       "      <td>1</td>\n",
       "    </tr>\n",
       "    <tr>\n",
       "      <th>29411</th>\n",
       "      <td>100000</td>\n",
       "      <td>390</td>\n",
       "      <td>390</td>\n",
       "      <td>390</td>\n",
       "      <td>780</td>\n",
       "      <td>0</td>\n",
       "      <td>599</td>\n",
       "      <td>390</td>\n",
       "      <td>390</td>\n",
       "      <td>780</td>\n",
       "      <td>...</td>\n",
       "      <td>0</td>\n",
       "      <td>29</td>\n",
       "      <td>0.996100</td>\n",
       "      <td>0.996100</td>\n",
       "      <td>0.996100</td>\n",
       "      <td>0.992200</td>\n",
       "      <td>1.000000</td>\n",
       "      <td>0.994010</td>\n",
       "      <td>1</td>\n",
       "      <td>1</td>\n",
       "    </tr>\n",
       "    <tr>\n",
       "      <th>1550</th>\n",
       "      <td>170000</td>\n",
       "      <td>93420</td>\n",
       "      <td>96284</td>\n",
       "      <td>97322</td>\n",
       "      <td>99419</td>\n",
       "      <td>101590</td>\n",
       "      <td>111679</td>\n",
       "      <td>4371</td>\n",
       "      <td>3533</td>\n",
       "      <td>3716</td>\n",
       "      <td>...</td>\n",
       "      <td>0</td>\n",
       "      <td>48</td>\n",
       "      <td>0.450471</td>\n",
       "      <td>0.433624</td>\n",
       "      <td>0.427518</td>\n",
       "      <td>0.415182</td>\n",
       "      <td>0.402412</td>\n",
       "      <td>0.343065</td>\n",
       "      <td>1</td>\n",
       "      <td>1</td>\n",
       "    </tr>\n",
       "    <tr>\n",
       "      <th>28431</th>\n",
       "      <td>180000</td>\n",
       "      <td>101526</td>\n",
       "      <td>101957</td>\n",
       "      <td>104317</td>\n",
       "      <td>106583</td>\n",
       "      <td>108811</td>\n",
       "      <td>111160</td>\n",
       "      <td>3000</td>\n",
       "      <td>4000</td>\n",
       "      <td>4000</td>\n",
       "      <td>...</td>\n",
       "      <td>0</td>\n",
       "      <td>39</td>\n",
       "      <td>0.435967</td>\n",
       "      <td>0.433572</td>\n",
       "      <td>0.420461</td>\n",
       "      <td>0.407872</td>\n",
       "      <td>0.395494</td>\n",
       "      <td>0.382444</td>\n",
       "      <td>0</td>\n",
       "      <td>0</td>\n",
       "    </tr>\n",
       "    <tr>\n",
       "      <th>26390</th>\n",
       "      <td>160000</td>\n",
       "      <td>39962</td>\n",
       "      <td>45640</td>\n",
       "      <td>38988</td>\n",
       "      <td>19825</td>\n",
       "      <td>22654</td>\n",
       "      <td>16158</td>\n",
       "      <td>10000</td>\n",
       "      <td>10000</td>\n",
       "      <td>5000</td>\n",
       "      <td>...</td>\n",
       "      <td>0</td>\n",
       "      <td>41</td>\n",
       "      <td>0.750238</td>\n",
       "      <td>0.714750</td>\n",
       "      <td>0.756325</td>\n",
       "      <td>0.876094</td>\n",
       "      <td>0.858413</td>\n",
       "      <td>0.899012</td>\n",
       "      <td>1</td>\n",
       "      <td>0</td>\n",
       "    </tr>\n",
       "    <tr>\n",
       "      <th>12951</th>\n",
       "      <td>50000</td>\n",
       "      <td>11744</td>\n",
       "      <td>10935</td>\n",
       "      <td>11664</td>\n",
       "      <td>10872</td>\n",
       "      <td>9392</td>\n",
       "      <td>9456</td>\n",
       "      <td>1507</td>\n",
       "      <td>1500</td>\n",
       "      <td>300</td>\n",
       "      <td>...</td>\n",
       "      <td>0</td>\n",
       "      <td>23</td>\n",
       "      <td>0.765120</td>\n",
       "      <td>0.781300</td>\n",
       "      <td>0.766720</td>\n",
       "      <td>0.782560</td>\n",
       "      <td>0.812160</td>\n",
       "      <td>0.810880</td>\n",
       "      <td>0</td>\n",
       "      <td>1</td>\n",
       "    </tr>\n",
       "    <tr>\n",
       "      <th>12254</th>\n",
       "      <td>270000</td>\n",
       "      <td>19769</td>\n",
       "      <td>34813</td>\n",
       "      <td>43852</td>\n",
       "      <td>29677</td>\n",
       "      <td>33341</td>\n",
       "      <td>28413</td>\n",
       "      <td>34813</td>\n",
       "      <td>43856</td>\n",
       "      <td>29682</td>\n",
       "      <td>...</td>\n",
       "      <td>0</td>\n",
       "      <td>40</td>\n",
       "      <td>0.926781</td>\n",
       "      <td>0.871063</td>\n",
       "      <td>0.837585</td>\n",
       "      <td>0.890085</td>\n",
       "      <td>0.876515</td>\n",
       "      <td>0.894767</td>\n",
       "      <td>1</td>\n",
       "      <td>0</td>\n",
       "    </tr>\n",
       "    <tr>\n",
       "      <th>3297</th>\n",
       "      <td>230000</td>\n",
       "      <td>8328</td>\n",
       "      <td>0</td>\n",
       "      <td>600</td>\n",
       "      <td>600</td>\n",
       "      <td>300</td>\n",
       "      <td>150</td>\n",
       "      <td>0</td>\n",
       "      <td>600</td>\n",
       "      <td>0</td>\n",
       "      <td>...</td>\n",
       "      <td>2</td>\n",
       "      <td>26</td>\n",
       "      <td>0.963791</td>\n",
       "      <td>1.000000</td>\n",
       "      <td>0.997391</td>\n",
       "      <td>0.997391</td>\n",
       "      <td>0.998696</td>\n",
       "      <td>0.999348</td>\n",
       "      <td>0</td>\n",
       "      <td>1</td>\n",
       "    </tr>\n",
       "    <tr>\n",
       "      <th>18266</th>\n",
       "      <td>190000</td>\n",
       "      <td>187295</td>\n",
       "      <td>186189</td>\n",
       "      <td>186002</td>\n",
       "      <td>170873</td>\n",
       "      <td>98013</td>\n",
       "      <td>94600</td>\n",
       "      <td>7000</td>\n",
       "      <td>7962</td>\n",
       "      <td>7000</td>\n",
       "      <td>...</td>\n",
       "      <td>0</td>\n",
       "      <td>54</td>\n",
       "      <td>0.014237</td>\n",
       "      <td>0.020058</td>\n",
       "      <td>0.021042</td>\n",
       "      <td>0.100668</td>\n",
       "      <td>0.484142</td>\n",
       "      <td>0.502105</td>\n",
       "      <td>1</td>\n",
       "      <td>0</td>\n",
       "    </tr>\n",
       "    <tr>\n",
       "      <th>14338</th>\n",
       "      <td>20000</td>\n",
       "      <td>19401</td>\n",
       "      <td>19670</td>\n",
       "      <td>19839</td>\n",
       "      <td>20236</td>\n",
       "      <td>19807</td>\n",
       "      <td>19843</td>\n",
       "      <td>1331</td>\n",
       "      <td>2000</td>\n",
       "      <td>688</td>\n",
       "      <td>...</td>\n",
       "      <td>0</td>\n",
       "      <td>47</td>\n",
       "      <td>0.029950</td>\n",
       "      <td>0.016500</td>\n",
       "      <td>0.008050</td>\n",
       "      <td>-0.011800</td>\n",
       "      <td>0.009650</td>\n",
       "      <td>0.007850</td>\n",
       "      <td>0</td>\n",
       "      <td>1</td>\n",
       "    </tr>\n",
       "  </tbody>\n",
       "</table>\n",
       "<p>10 rows × 28 columns</p>\n",
       "</div>"
      ],
      "text/plain": [
       "       LIMIT_BAL  BILL_AMT1  BILL_AMT2  BILL_AMT3  BILL_AMT4  BILL_AMT5  \\\n",
       "8332      480000      24610       -310     148544      18791       5909   \n",
       "29411     100000        390        390        390        780          0   \n",
       "1550      170000      93420      96284      97322      99419     101590   \n",
       "28431     180000     101526     101957     104317     106583     108811   \n",
       "26390     160000      39962      45640      38988      19825      22654   \n",
       "12951      50000      11744      10935      11664      10872       9392   \n",
       "12254     270000      19769      34813      43852      29677      33341   \n",
       "3297      230000       8328          0        600        600        300   \n",
       "18266     190000     187295     186189     186002     170873      98013   \n",
       "14338      20000      19401      19670      19839      20236      19807   \n",
       "\n",
       "       BILL_AMT6  PAY_AMT1  PAY_AMT2  PAY_AMT3  ...  PAY_6  AGE  BA1_2_LB  \\\n",
       "8332       68988         4    149654     18885  ...      0   58  0.948729   \n",
       "29411        599       390       390       780  ...      0   29  0.996100   \n",
       "1550      111679      4371      3533      3716  ...      0   48  0.450471   \n",
       "28431     111160      3000      4000      4000  ...      0   39  0.435967   \n",
       "26390      16158     10000     10000      5000  ...      0   41  0.750238   \n",
       "12951       9456      1507      1500       300  ...      0   23  0.765120   \n",
       "12254      28413     34813     43856     29682  ...      0   40  0.926781   \n",
       "3297         150         0       600         0  ...      2   26  0.963791   \n",
       "18266      94600      7000      7962      7000  ...      0   54  0.014237   \n",
       "14338      19843      1331      2000       688  ...      0   47  0.029950   \n",
       "\n",
       "       BA2_2_LB  BA3_2_LB  BA4_2_LB  BA5_2_LB  BA6_2_LB  No_Delays_6  Default  \n",
       "8332   1.000646  0.690533  0.960852  0.987690  0.856275            1        1  \n",
       "29411  0.996100  0.996100  0.992200  1.000000  0.994010            1        1  \n",
       "1550   0.433624  0.427518  0.415182  0.402412  0.343065            1        1  \n",
       "28431  0.433572  0.420461  0.407872  0.395494  0.382444            0        0  \n",
       "26390  0.714750  0.756325  0.876094  0.858413  0.899012            1        0  \n",
       "12951  0.781300  0.766720  0.782560  0.812160  0.810880            0        1  \n",
       "12254  0.871063  0.837585  0.890085  0.876515  0.894767            1        0  \n",
       "3297   1.000000  0.997391  0.997391  0.998696  0.999348            0        1  \n",
       "18266  0.020058  0.021042  0.100668  0.484142  0.502105            1        0  \n",
       "14338  0.016500  0.008050 -0.011800  0.009650  0.007850            0        1  \n",
       "\n",
       "[10 rows x 28 columns]"
      ]
     },
     "execution_count": 84,
     "metadata": {},
     "output_type": "execute_result"
    }
   ],
   "source": [
    "# create the training df by remerging X_train and y_train\n",
    "df_train = X_train.join(y_train)\n",
    "df_train.sample(10)"
   ]
  },
  {
   "cell_type": "code",
   "execution_count": 85,
   "metadata": {},
   "outputs": [
    {
     "name": "stdout",
     "output_type": "stream",
     "text": [
      "17531\n",
      "-----------\n",
      "4942\n",
      "-----------\n",
      "0    17531\n",
      "1     4942\n",
      "Name: Default, dtype: int64\n"
     ]
    }
   ],
   "source": [
    "# Separate majority and minority classes\n",
    "df_majority = df_train[df_train.Default==0]\n",
    "df_minority = df_train[df_train.Default==1]\n",
    "\n",
    "print(df_majority.Default.count())\n",
    "print(\"-----------\")\n",
    "print(df_minority.Default.count())\n",
    "print(\"-----------\")\n",
    "print(df_train.Default.value_counts())"
   ]
  },
  {
   "cell_type": "code",
   "execution_count": 86,
   "metadata": {},
   "outputs": [
    {
     "data": {
      "text/plain": [
       "1    17531\n",
       "0    17531\n",
       "Name: Default, dtype: int64"
      ]
     },
     "execution_count": 86,
     "metadata": {},
     "output_type": "execute_result"
    }
   ],
   "source": [
    "# Upsample minority class\n",
    "df_minority_upsampled = resample(df_minority, \n",
    "                                 replace=True,     # sample with replacement\n",
    "                                 n_samples=17531,    # to match majority class\n",
    "                                 random_state=587) # reproducible results\n",
    "# Combine majority class with upsampled minority class\n",
    "df_upsampled = pd.concat([df_majority, df_minority_upsampled])\n",
    "# Display new class counts\n",
    "df_upsampled.Default.value_counts()"
   ]
  },
  {
   "cell_type": "code",
   "execution_count": 87,
   "metadata": {},
   "outputs": [
    {
     "data": {
      "text/plain": [
       "1    4942\n",
       "0    4942\n",
       "Name: Default, dtype: int64"
      ]
     },
     "execution_count": 87,
     "metadata": {},
     "output_type": "execute_result"
    }
   ],
   "source": [
    "# Downsample majority class\n",
    "df_majority_downsampled = resample(df_majority, \n",
    "                                 replace=False,    # sample without replacement\n",
    "                                 n_samples=4942,     # to match minority class\n",
    "                                 random_state=587) # reproducible results\n",
    "# Combine minority class with downsampled majority class\n",
    "df_downsampled = pd.concat([df_majority_downsampled, df_minority])\n",
    "# Display new class counts\n",
    "df_downsampled.Default.value_counts()"
   ]
  },
  {
   "cell_type": "code",
   "execution_count": 88,
   "metadata": {},
   "outputs": [],
   "source": [
    "X_upsampled = df_upsampled.drop(['Default'], axis=1)\n",
    "y_upsampled = df_upsampled.Default"
   ]
  },
  {
   "cell_type": "code",
   "execution_count": 89,
   "metadata": {},
   "outputs": [],
   "source": [
    "algo = GradientBoostingClassifier(n_estimators=300, learning_rate=0.1, max_depth=4, random_state=0)\n",
    "model = algo.fit(X_upsampled, y_upsampled)\n",
    "preds = model.predict(X_test)"
   ]
  },
  {
   "cell_type": "code",
   "execution_count": 90,
   "metadata": {},
   "outputs": [
    {
     "name": "stdout",
     "output_type": "stream",
     "text": [
      "              precision    recall  f1-score   support\n",
      "\n",
      "           0       0.88      0.80      0.84      5804\n",
      "           1       0.47      0.62      0.54      1688\n",
      "\n",
      "    accuracy                           0.76      7492\n",
      "   macro avg       0.68      0.71      0.69      7492\n",
      "weighted avg       0.79      0.76      0.77      7492\n",
      "\n"
     ]
    }
   ],
   "source": [
    "# Print the classification report using the predictions and ground truth to assess the model\n",
    "print(classification_report(y_test, preds))"
   ]
  },
  {
   "cell_type": "code",
   "execution_count": 91,
   "metadata": {},
   "outputs": [],
   "source": [
    "X_downsampled = df_downsampled.drop(['Default'], axis=1)\n",
    "y_downsampled = df_downsampled.Default"
   ]
  },
  {
   "cell_type": "code",
   "execution_count": 92,
   "metadata": {},
   "outputs": [],
   "source": [
    "model = algo.fit(X_downsampled, y_downsampled)\n",
    "preds = model.predict(X_test)"
   ]
  },
  {
   "cell_type": "code",
   "execution_count": 93,
   "metadata": {},
   "outputs": [
    {
     "name": "stdout",
     "output_type": "stream",
     "text": [
      "              precision    recall  f1-score   support\n",
      "\n",
      "           0       0.88      0.75      0.81      5804\n",
      "           1       0.44      0.66      0.53      1688\n",
      "\n",
      "    accuracy                           0.73      7492\n",
      "   macro avg       0.66      0.71      0.67      7492\n",
      "weighted avg       0.78      0.73      0.75      7492\n",
      "\n"
     ]
    }
   ],
   "source": [
    "# Print the classification report using the predictions and ground truth to assess the model\n",
    "print(classification_report(y_test, preds))"
   ]
  },
  {
   "cell_type": "code",
   "execution_count": 94,
   "metadata": {},
   "outputs": [
    {
     "data": {
      "image/png": "[encoded data removed]",
      "text/plain": [
       "<Figure size 504x288 with 1 Axes>"
      ]
     },
     "metadata": {
      "needs_background": "light"
     },
     "output_type": "display_data"
    }
   ],
   "source": [
    "tmp = pd.DataFrame({'Feature': X_downsampled, 'Feature importance': algo.feature_importances_})\n",
    "tmp = tmp.sort_values(by='Feature importance',ascending=False)\n",
    "plt.figure(figsize = (7,4))\n",
    "plt.title('Features importance',fontsize=14)\n",
    "s = sns.barplot(x='Feature',y='Feature importance',data=tmp)\n",
    "s.set_xticklabels(s.get_xticklabels(),rotation=90)\n",
    "plt.show()"
   ]
  },
  {
   "cell_type": "markdown",
   "metadata": {},
   "source": [
    "Classification Conclusion:"
   ]
  },
  {
   "cell_type": "markdown",
   "metadata": {},
   "source": [
    "I was able to build a classification model that could accurately predict if a new customer loan would Default or not. The Gradient Boosting Classifier had the highest scores of the 4 models with an accuracy score of 0.82 and a recall score of 0.66. The results of the PCA revealed that the variables Limit Balance, Bill Amount 1-6 and Pay Amount 1-6 are the most important features in the dataset for predicting Default. I focused on improving the model's Recall Score because it accounts for the False Negative predictions (ie model predicts Not Default and its Default). This would have far more consequences than a False Positive prediction (ie model predicts Default and its Not Default) which is scored in Precision. As the goal of this project was to decrease the Default Rate for new customer credit loans, I beleive the Recall Score is more meaningful and trained the model on increasing this score by balancing the data with upsampling and downsampling techniques. I learned that standardization and PCA greatly improves some models, like SVC and MLP, while having little to no impact on other models, like Random Forest and Gradient Boosting Classifiers. When deciding if a new customer loan should be approved or not, I recommend focusing on the customers credit payment history and Bill Amounts compared to the Credit Limit, as these are the most important factors for predicting Default. One of the best indicators I found for if a customer will default is the variable No_Delays_6, which indicates if a customer has any delay payments the past 6 months, and the variable BA_2_LB, which indicates how close each Bill Amount is to the Credit Limit. I would also recommend replacing the demographic variables Sex and Marriage, as they add no value to the dataset, with variables like Occupation and/or Household Income."
   ]
  },
  {
   "cell_type": "markdown",
   "metadata": {},
   "source": [
    "Conclusion:"
   ]
  },
  {
   "cell_type": "markdown",
   "metadata": {},
   "source": [
    "The most significant attributes for this problem are the customers past payment amounts, bill amounts, and credit limit (ie is the customer paying his bill on time and is he spending too much credit each month). The demographic variables had little to no impact on the results. Customers most likely to default on a loan have delay payments on their bill the last 6 months, while customers most likely not to default have no delay payments the last 6 months. Although we cannot control customer spending habits or ensure they will pay their loans, we can still approve them with high certainty by applying the right methodologies and business rules to the approval process."
   ]
  },
  {
   "cell_type": "code",
   "execution_count": null,
   "metadata": {},
   "outputs": [],
   "source": []
  }
 ],
 "metadata": {
  "kernelspec": {
   "display_name": "Python 3",
   "language": "python",
   "name": "python3"
  },
  "language_info": {
   "codemirror_mode": {
    "name": "ipython",
    "version": 3
   },
   "file_extension": ".py",
   "mimetype": "text/x-python",
   "name": "python",
   "nbconvert_exporter": "python",
   "pygments_lexer": "ipython3",
   "version": "3.8.3"
  }
 },
 "nbformat": 4,
 "nbformat_minor": 4
}
